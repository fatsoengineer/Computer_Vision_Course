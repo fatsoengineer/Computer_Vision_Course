{
  "nbformat": 4,
  "nbformat_minor": 0,
  "metadata": {
    "colab": {
      "name": "Final_EVA4 - Session 2.ipynb",
      "provenance": []
    },
    "kernelspec": {
      "name": "python3",
      "display_name": "Python 3"
    },
    "accelerator": "GPU"
  },
  "cells": [
    {
      "cell_type": "code",
      "metadata": {
        "id": "0m2JWFliFfKT",
        "colab_type": "code",
        "colab": {}
      },
      "source": [
        "from __future__ import print_function\n",
        "import torch\n",
        "import torch.nn as nn\n",
        "import torch.nn.functional as F\n",
        "import torch.optim as optim\n",
        "from torchvision import datasets, transforms\n",
        "# !pip install torchsummary\n",
        "from torchsummary import summary"
      ],
      "execution_count": 0,
      "outputs": []
    },
    {
      "cell_type": "code",
      "metadata": {
        "id": "h_Cx9q2QFgM7",
        "colab_type": "code",
        "colab": {}
      },
      "source": [
        "# class Net(nn.Module):\n",
        "#     def __init__(self):\n",
        "#         super(Net, self).__init__()\n",
        "#         self.conv1 = nn.Conv2d(1, 16, 3,  bias=False, padding=1)\n",
        "#         self.conv2 = nn.Conv2d(16, 20, 3,  bias=False, padding=1)\n",
        "#         self.conv3 = nn.Conv2d(20, 20, 3,  bias=False, padding=1)\n",
        "#         self.batch_norm_16 = nn.BatchNorm2d(16)\n",
        "#         self.batch_norm_20 = nn.BatchNorm2d(20)\n",
        "#         self.batch_norm_10 = nn.BatchNorm2d(10)\n",
        "\n",
        "#         self.dropout = nn.Dropout(0.10)\n",
        "\n",
        "\n",
        "#         self.pool1 = nn.MaxPool2d(2, 2)\n",
        "#         self.reduce_channel = nn.Conv2d(20, 16, 1,  bias=False)\n",
        "\n",
        "#         self.conv4 = nn.Conv2d(20, 10, 3,  bias=False)\n",
        "#         self.conv5 = nn.Conv2d(16, 20, 3,  bias=False)\n",
        "#         self.conv6 = nn.Conv2d(20, 20, 3,  bias=False)\n",
        "\n",
        "#         self.AvgPool2d = nn.AvgPool2d(3)\n",
        "\n",
        "#     def forward(self, x):\n",
        "#         x = self.dropout(self.batch_norm_16(F.relu(self.conv1(x)))) #28\n",
        "#         x = self.dropout(self.batch_norm_20(F.relu(self.conv2(x)))) #28\n",
        "#         # x = self.dropout(self.batch_norm_20(F.relu(self.conv3(x)))) #28\n",
        "#         x = self.reduce_channel(self.pool1(x)) #14\n",
        "       \n",
        "#         x = self.dropout(self.batch_norm_20(F.relu(self.conv2(x)))) #14\n",
        "#         x = self.dropout(self.batch_norm_20(F.relu(self.conv3(x)))) #14\n",
        "#         x = self.dropout(self.batch_norm_20(F.relu(self.conv3(x)))) #14\n",
        "#         x = self.reduce_channel(self.pool1(x)) #7\n",
        "\n",
        "#         x = self.dropout(self.batch_norm_20(F.relu(self.conv5(x)))) #5\n",
        "#         x = self.dropout(self.batch_norm_20(F.relu(self.conv6(x)))) #3\n",
        "#         # x = self.dropout(self.batch_norm_20(F.relu(self.conv6(x))))\n",
        "\n",
        "#         x= self.conv4(x)\n",
        "#         # x= self.AvgPool2d(x)\n",
        "\n",
        "\n",
        "\n",
        "#         # x = self.pool1(F.relu(self.conv2(F.relu(self.conv1(x)))))\n",
        "#         # x = self.pool2(F.relu(self.conv4(F.relu(self.conv3(x)))))\n",
        "#         # x = F.relu(self.conv6(F.relu(self.conv5(x))))\n",
        "#         # x = (self.conv7(x))\n",
        "#         x = x.view(-1, 10)\n",
        "#         return F.log_softmax(x)"
      ],
      "execution_count": 0,
      "outputs": []
    },
    {
      "cell_type": "code",
      "metadata": {
        "id": "O-2BGVl_jsfL",
        "colab_type": "code",
        "colab": {}
      },
      "source": [
        "class Net(nn.Module):\n",
        "    def __init__(self):\n",
        "        super(Net, self).__init__()\n",
        "\n",
        "        self.conv1 = nn.Sequential(\n",
        "            nn.Conv2d(1,8,3, padding =1,bias=False), #28\n",
        "            nn.ReLU(),\n",
        "            nn.BatchNorm2d(8),\n",
        "            nn.Dropout2d(.10),\n",
        "\n",
        "            nn.Conv2d(8,8,3, padding =1,bias=False), # 28\n",
        "            nn.ReLU(),\n",
        "            nn.BatchNorm2d(8),\n",
        "            nn.Dropout2d(.10),\n",
        "\n",
        "            nn.MaxPool2d(2,2), # 14\n",
        "            # nn.Conv2d(20,16,1)\n",
        "        )\n",
        "\n",
        "        self.conv2 = nn.Sequential(\n",
        "            nn.Conv2d(8,16,3,bias=False), # 12\n",
        "            nn.ReLU(),\n",
        "            nn.BatchNorm2d(16),\n",
        "            nn.Dropout2d(.10),\n",
        "\n",
        "            nn.Conv2d(16,16,3,bias=False), # 10\n",
        "            nn.ReLU(),\n",
        "            nn.BatchNorm2d(16),\n",
        "            nn.Dropout2d(.10),\n",
        "\n",
        "            nn.MaxPool2d(2,2), #5\n",
        "            # nn.Conv2d(20,16,1)\n",
        "        )\n",
        "\n",
        "        self.conv3 = nn.Sequential(\n",
        "            nn.Conv2d(16, 24,3,bias=False), #3\n",
        "            nn.ReLU(),\n",
        "            nn.BatchNorm2d(24),\n",
        "            nn.Dropout2d(.10),\n",
        "\n",
        "            # nn.Conv2d(24,24,3,bias=False), #1\n",
        "            # nn.ReLU(),\n",
        "            # nn.BatchNorm2d(24),\n",
        "            # nn.Dropout2d(.10),\n",
        "\n",
        "            # nn.MaxPool2d(2,2), #5\n",
        "            # nn.Conv2d(24,16,1)\n",
        "        )\n",
        "\n",
        "        self.reducer = nn.Conv2d(24,10,1,bias=False)\n",
        "        self.gap_layer = nn.AvgPool2d(3)\n",
        "\n",
        "    def forward(self, x):\n",
        "      x= self.conv1(x)\n",
        "      x= self.conv2(x)\n",
        "      x= self.conv3(x)\n",
        "      x= self.reducer(x)\n",
        "      x= self.gap_layer(x)\n",
        "      x = x.view(-1, 10)\n",
        "      return F.log_softmax(x)"
      ],
      "execution_count": 0,
      "outputs": []
    },
    {
      "cell_type": "code",
      "metadata": {
        "colab_type": "code",
        "id": "xdydjYTZFyi3",
        "outputId": "585afd3a-9193-4226-84a7-25ca18baeb7e",
        "colab": {
          "base_uri": "https://localhost:8080/",
          "height": 683
        }
      },
      "source": [
        "\n",
        "use_cuda = torch.cuda.is_available()\n",
        "device = torch.device(\"cuda\" if use_cuda else \"cpu\")\n",
        "model = Net().to(device)\n",
        "summary(model, input_size=(1, 28, 28))"
      ],
      "execution_count": 34,
      "outputs": [
        {
          "output_type": "stream",
          "text": [
            "----------------------------------------------------------------\n",
            "        Layer (type)               Output Shape         Param #\n",
            "================================================================\n",
            "            Conv2d-1            [-1, 8, 28, 28]              72\n",
            "              ReLU-2            [-1, 8, 28, 28]               0\n",
            "       BatchNorm2d-3            [-1, 8, 28, 28]              16\n",
            "         Dropout2d-4            [-1, 8, 28, 28]               0\n",
            "            Conv2d-5            [-1, 8, 28, 28]             576\n",
            "              ReLU-6            [-1, 8, 28, 28]               0\n",
            "       BatchNorm2d-7            [-1, 8, 28, 28]              16\n",
            "         Dropout2d-8            [-1, 8, 28, 28]               0\n",
            "         MaxPool2d-9            [-1, 8, 14, 14]               0\n",
            "           Conv2d-10           [-1, 16, 12, 12]           1,152\n",
            "             ReLU-11           [-1, 16, 12, 12]               0\n",
            "      BatchNorm2d-12           [-1, 16, 12, 12]              32\n",
            "        Dropout2d-13           [-1, 16, 12, 12]               0\n",
            "           Conv2d-14           [-1, 16, 10, 10]           2,304\n",
            "             ReLU-15           [-1, 16, 10, 10]               0\n",
            "      BatchNorm2d-16           [-1, 16, 10, 10]              32\n",
            "        Dropout2d-17           [-1, 16, 10, 10]               0\n",
            "        MaxPool2d-18             [-1, 16, 5, 5]               0\n",
            "           Conv2d-19             [-1, 24, 3, 3]           3,456\n",
            "             ReLU-20             [-1, 24, 3, 3]               0\n",
            "      BatchNorm2d-21             [-1, 24, 3, 3]              48\n",
            "        Dropout2d-22             [-1, 24, 3, 3]               0\n",
            "           Conv2d-23             [-1, 10, 3, 3]             240\n",
            "        AvgPool2d-24             [-1, 10, 1, 1]               0\n",
            "================================================================\n",
            "Total params: 7,944\n",
            "Trainable params: 7,944\n",
            "Non-trainable params: 0\n",
            "----------------------------------------------------------------\n",
            "Input size (MB): 0.00\n",
            "Forward/backward pass size (MB): 0.52\n",
            "Params size (MB): 0.03\n",
            "Estimated Total Size (MB): 0.56\n",
            "----------------------------------------------------------------\n"
          ],
          "name": "stdout"
        },
        {
          "output_type": "stream",
          "text": [
            "/usr/local/lib/python3.6/dist-packages/ipykernel_launcher.py:60: UserWarning: Implicit dimension choice for log_softmax has been deprecated. Change the call to include dim=X as an argument.\n"
          ],
          "name": "stderr"
        }
      ]
    },
    {
      "cell_type": "code",
      "metadata": {
        "id": "DqTWLaM5GHgH",
        "colab_type": "code",
        "colab": {}
      },
      "source": [
        "\n",
        "\n",
        "torch.manual_seed(1)\n",
        "batch_size = 64\n",
        "\n",
        "kwargs = {'num_workers': 4, 'pin_memory': True} if use_cuda else {}\n",
        "train_loader = torch.utils.data.DataLoader(\n",
        "    datasets.MNIST('../data', train=True, download=True,\n",
        "                    transform=transforms.Compose([\n",
        "                        transforms.ToTensor(),\n",
        "                        transforms.Normalize((0.1307,), (0.3081,))\n",
        "                    ])),\n",
        "    batch_size=batch_size, shuffle=True, **kwargs)\n",
        "test_loader = torch.utils.data.DataLoader(\n",
        "    datasets.MNIST('../data', train=False, transform=transforms.Compose([\n",
        "                        transforms.ToTensor(),\n",
        "                        transforms.Normalize((0.1307,), (0.3081,))\n",
        "                    ])),\n",
        "    batch_size=batch_size, shuffle=True, **kwargs)\n"
      ],
      "execution_count": 0,
      "outputs": []
    },
    {
      "cell_type": "code",
      "metadata": {
        "id": "8fDefDhaFlwH",
        "colab_type": "code",
        "colab": {}
      },
      "source": [
        "from tqdm import tqdm\n",
        "def train(model, device, train_loader, optimizer, epoch):\n",
        "    model.train()\n",
        "    pbar = tqdm(train_loader)\n",
        "    for batch_idx, (data, target) in enumerate(pbar):\n",
        "        data, target = data.to(device), target.to(device)\n",
        "        optimizer.zero_grad()\n",
        "        output = model(data)\n",
        "        loss = F.nll_loss(output, target)\n",
        "        loss.backward()\n",
        "        optimizer.step()\n",
        "        pbar.set_description(desc= f'loss={loss.item()} batch_id={batch_idx}')\n",
        "\n",
        "\n",
        "def test(model, device, test_loader):\n",
        "    model.eval()\n",
        "    test_loss = 0\n",
        "    correct = 0\n",
        "    with torch.no_grad():\n",
        "        for data, target in test_loader:\n",
        "            data, target = data.to(device), target.to(device)\n",
        "            output = model(data)\n",
        "            test_loss += F.nll_loss(output, target, reduction='sum').item()  # sum up batch loss\n",
        "            pred = output.argmax(dim=1, keepdim=True)  # get the index of the max log-probability\n",
        "            correct += pred.eq(target.view_as(pred)).sum().item()\n",
        "\n",
        "    test_loss /= len(test_loader.dataset)\n",
        "\n",
        "    print('\\nTest set: Average loss: {:.4f}, Accuracy: {}/{} ({:.2f}%)\\n'.format(\n",
        "        test_loss, correct, len(test_loader.dataset),\n",
        "        100. * correct / len(test_loader.dataset)))"
      ],
      "execution_count": 0,
      "outputs": []
    },
    {
      "cell_type": "code",
      "metadata": {
        "id": "MMWbLWO6FuHb",
        "colab_type": "code",
        "outputId": "b867dc9a-5aeb-42e9-9be3-fc8f84387bf4",
        "colab": {
          "base_uri": "https://localhost:8080/",
          "height": 1000
        }
      },
      "source": [
        "\n",
        "model = Net().to(device)\n",
        "optimizer = optim.SGD(model.parameters(), lr=0.01, momentum=0.9)\n",
        "\n",
        "for epoch in range(1, 21):\n",
        "  print(f\"epoch: {epoch} \")\n",
        "  train(model, device, train_loader, optimizer, epoch)\n",
        "  test(model, device, test_loader)"
      ],
      "execution_count": 37,
      "outputs": [
        {
          "output_type": "stream",
          "text": [
            "\r  0%|          | 0/938 [00:00<?, ?it/s]"
          ],
          "name": "stderr"
        },
        {
          "output_type": "stream",
          "text": [
            "epoch: 1 \n"
          ],
          "name": "stdout"
        },
        {
          "output_type": "stream",
          "text": [
            "/usr/local/lib/python3.6/dist-packages/ipykernel_launcher.py:60: UserWarning: Implicit dimension choice for log_softmax has been deprecated. Change the call to include dim=X as an argument.\n",
            "loss=0.2596367299556732 batch_id=937: 100%|██████████| 938/938 [00:14<00:00, 64.28it/s]\n",
            "  0%|          | 0/938 [00:00<?, ?it/s]"
          ],
          "name": "stderr"
        },
        {
          "output_type": "stream",
          "text": [
            "\n",
            "Test set: Average loss: 0.0627, Accuracy: 9833/10000 (98.33%)\n",
            "\n",
            "epoch: 2 \n"
          ],
          "name": "stdout"
        },
        {
          "output_type": "stream",
          "text": [
            "loss=0.031580567359924316 batch_id=937: 100%|██████████| 938/938 [00:13<00:00, 67.11it/s]\n",
            "  0%|          | 0/938 [00:00<?, ?it/s]"
          ],
          "name": "stderr"
        },
        {
          "output_type": "stream",
          "text": [
            "\n",
            "Test set: Average loss: 0.0419, Accuracy: 9871/10000 (98.71%)\n",
            "\n",
            "epoch: 3 \n"
          ],
          "name": "stdout"
        },
        {
          "output_type": "stream",
          "text": [
            "loss=0.012555301189422607 batch_id=937: 100%|██████████| 938/938 [00:15<00:00, 62.51it/s]\n",
            "  0%|          | 0/938 [00:00<?, ?it/s]"
          ],
          "name": "stderr"
        },
        {
          "output_type": "stream",
          "text": [
            "\n",
            "Test set: Average loss: 0.0338, Accuracy: 9900/10000 (99.00%)\n",
            "\n",
            "epoch: 4 \n"
          ],
          "name": "stdout"
        },
        {
          "output_type": "stream",
          "text": [
            "loss=0.013363540172576904 batch_id=937: 100%|██████████| 938/938 [00:14<00:00, 65.85it/s]\n",
            "  0%|          | 0/938 [00:00<?, ?it/s]"
          ],
          "name": "stderr"
        },
        {
          "output_type": "stream",
          "text": [
            "\n",
            "Test set: Average loss: 0.0309, Accuracy: 9905/10000 (99.05%)\n",
            "\n",
            "epoch: 5 \n"
          ],
          "name": "stdout"
        },
        {
          "output_type": "stream",
          "text": [
            "loss=0.13904759287834167 batch_id=937: 100%|██████████| 938/938 [00:14<00:00, 64.34it/s]\n",
            "  0%|          | 0/938 [00:00<?, ?it/s]"
          ],
          "name": "stderr"
        },
        {
          "output_type": "stream",
          "text": [
            "\n",
            "Test set: Average loss: 0.0298, Accuracy: 9910/10000 (99.10%)\n",
            "\n",
            "epoch: 6 \n"
          ],
          "name": "stdout"
        },
        {
          "output_type": "stream",
          "text": [
            "loss=0.2807323932647705 batch_id=937: 100%|██████████| 938/938 [00:14<00:00, 64.52it/s]\n",
            "  0%|          | 0/938 [00:00<?, ?it/s]"
          ],
          "name": "stderr"
        },
        {
          "output_type": "stream",
          "text": [
            "\n",
            "Test set: Average loss: 0.0245, Accuracy: 9926/10000 (99.26%)\n",
            "\n",
            "epoch: 7 \n"
          ],
          "name": "stdout"
        },
        {
          "output_type": "stream",
          "text": [
            "loss=0.07095541059970856 batch_id=937: 100%|██████████| 938/938 [00:14<00:00, 65.38it/s]\n",
            "  0%|          | 0/938 [00:00<?, ?it/s]"
          ],
          "name": "stderr"
        },
        {
          "output_type": "stream",
          "text": [
            "\n",
            "Test set: Average loss: 0.0261, Accuracy: 9919/10000 (99.19%)\n",
            "\n",
            "epoch: 8 \n"
          ],
          "name": "stdout"
        },
        {
          "output_type": "stream",
          "text": [
            "loss=0.033350005745887756 batch_id=937: 100%|██████████| 938/938 [00:14<00:00, 65.74it/s]\n",
            "  0%|          | 0/938 [00:00<?, ?it/s]"
          ],
          "name": "stderr"
        },
        {
          "output_type": "stream",
          "text": [
            "\n",
            "Test set: Average loss: 0.0231, Accuracy: 9925/10000 (99.25%)\n",
            "\n",
            "epoch: 9 \n"
          ],
          "name": "stdout"
        },
        {
          "output_type": "stream",
          "text": [
            "loss=0.052108779549598694 batch_id=937: 100%|██████████| 938/938 [00:14<00:00, 64.99it/s]\n",
            "  0%|          | 0/938 [00:00<?, ?it/s]"
          ],
          "name": "stderr"
        },
        {
          "output_type": "stream",
          "text": [
            "\n",
            "Test set: Average loss: 0.0240, Accuracy: 9929/10000 (99.29%)\n",
            "\n",
            "epoch: 10 \n"
          ],
          "name": "stdout"
        },
        {
          "output_type": "stream",
          "text": [
            "loss=0.05380229651927948 batch_id=937: 100%|██████████| 938/938 [00:14<00:00, 65.68it/s]\n",
            "  0%|          | 0/938 [00:00<?, ?it/s]"
          ],
          "name": "stderr"
        },
        {
          "output_type": "stream",
          "text": [
            "\n",
            "Test set: Average loss: 0.0239, Accuracy: 9917/10000 (99.17%)\n",
            "\n",
            "epoch: 11 \n"
          ],
          "name": "stdout"
        },
        {
          "output_type": "stream",
          "text": [
            "loss=0.031224608421325684 batch_id=937: 100%|██████████| 938/938 [00:14<00:00, 64.70it/s]\n",
            "  0%|          | 0/938 [00:00<?, ?it/s]"
          ],
          "name": "stderr"
        },
        {
          "output_type": "stream",
          "text": [
            "\n",
            "Test set: Average loss: 0.0248, Accuracy: 9925/10000 (99.25%)\n",
            "\n",
            "epoch: 12 \n"
          ],
          "name": "stdout"
        },
        {
          "output_type": "stream",
          "text": [
            "loss=0.055045679211616516 batch_id=937: 100%|██████████| 938/938 [00:14<00:00, 63.46it/s]\n",
            "  0%|          | 0/938 [00:00<?, ?it/s]"
          ],
          "name": "stderr"
        },
        {
          "output_type": "stream",
          "text": [
            "\n",
            "Test set: Average loss: 0.0220, Accuracy: 9933/10000 (99.33%)\n",
            "\n",
            "epoch: 13 \n"
          ],
          "name": "stdout"
        },
        {
          "output_type": "stream",
          "text": [
            "loss=0.2000570446252823 batch_id=937: 100%|██████████| 938/938 [00:14<00:00, 63.00it/s]\n",
            "  0%|          | 0/938 [00:00<?, ?it/s]"
          ],
          "name": "stderr"
        },
        {
          "output_type": "stream",
          "text": [
            "\n",
            "Test set: Average loss: 0.0208, Accuracy: 9936/10000 (99.36%)\n",
            "\n",
            "epoch: 14 \n"
          ],
          "name": "stdout"
        },
        {
          "output_type": "stream",
          "text": [
            "loss=0.08786655962467194 batch_id=937: 100%|██████████| 938/938 [00:15<00:00, 60.43it/s]\n",
            "  0%|          | 0/938 [00:00<?, ?it/s]"
          ],
          "name": "stderr"
        },
        {
          "output_type": "stream",
          "text": [
            "\n",
            "Test set: Average loss: 0.0204, Accuracy: 9944/10000 (99.44%)\n",
            "\n",
            "epoch: 15 \n"
          ],
          "name": "stdout"
        },
        {
          "output_type": "stream",
          "text": [
            "loss=0.041443005204200745 batch_id=937: 100%|██████████| 938/938 [00:16<00:00, 56.14it/s]\n",
            "  0%|          | 0/938 [00:00<?, ?it/s]"
          ],
          "name": "stderr"
        },
        {
          "output_type": "stream",
          "text": [
            "\n",
            "Test set: Average loss: 0.0193, Accuracy: 9947/10000 (99.47%)\n",
            "\n",
            "epoch: 16 \n"
          ],
          "name": "stdout"
        },
        {
          "output_type": "stream",
          "text": [
            "loss=0.031190738081932068 batch_id=937: 100%|██████████| 938/938 [00:16<00:00, 55.77it/s]\n",
            "  0%|          | 0/938 [00:00<?, ?it/s]"
          ],
          "name": "stderr"
        },
        {
          "output_type": "stream",
          "text": [
            "\n",
            "Test set: Average loss: 0.0178, Accuracy: 9946/10000 (99.46%)\n",
            "\n",
            "epoch: 17 \n"
          ],
          "name": "stdout"
        },
        {
          "output_type": "stream",
          "text": [
            "loss=0.12824541330337524 batch_id=937: 100%|██████████| 938/938 [00:16<00:00, 58.47it/s]\n",
            "  0%|          | 0/938 [00:00<?, ?it/s]"
          ],
          "name": "stderr"
        },
        {
          "output_type": "stream",
          "text": [
            "\n",
            "Test set: Average loss: 0.0187, Accuracy: 9942/10000 (99.42%)\n",
            "\n",
            "epoch: 18 \n"
          ],
          "name": "stdout"
        },
        {
          "output_type": "stream",
          "text": [
            "loss=0.22803552448749542 batch_id=937: 100%|██████████| 938/938 [00:16<00:00, 59.58it/s]\n",
            "  0%|          | 0/938 [00:00<?, ?it/s]"
          ],
          "name": "stderr"
        },
        {
          "output_type": "stream",
          "text": [
            "\n",
            "Test set: Average loss: 0.0195, Accuracy: 9934/10000 (99.34%)\n",
            "\n",
            "epoch: 19 \n"
          ],
          "name": "stdout"
        },
        {
          "output_type": "stream",
          "text": [
            "loss=0.019069239497184753 batch_id=937: 100%|██████████| 938/938 [00:17<00:00, 52.32it/s]\n",
            "  0%|          | 0/938 [00:00<?, ?it/s]"
          ],
          "name": "stderr"
        },
        {
          "output_type": "stream",
          "text": [
            "\n",
            "Test set: Average loss: 0.0190, Accuracy: 9939/10000 (99.39%)\n",
            "\n",
            "epoch: 20 \n"
          ],
          "name": "stdout"
        },
        {
          "output_type": "stream",
          "text": [
            "loss=0.008348315954208374 batch_id=937: 100%|██████████| 938/938 [00:17<00:00, 52.54it/s]\n"
          ],
          "name": "stderr"
        },
        {
          "output_type": "stream",
          "text": [
            "\n",
            "Test set: Average loss: 0.0192, Accuracy: 9946/10000 (99.46%)\n",
            "\n"
          ],
          "name": "stdout"
        }
      ]
    },
    {
      "cell_type": "code",
      "metadata": {
        "id": "So5uk4EkHW6R",
        "colab_type": "code",
        "colab": {}
      },
      "source": [
        ""
      ],
      "execution_count": 0,
      "outputs": []
    }
  ]
}