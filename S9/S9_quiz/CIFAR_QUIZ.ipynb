{
  "nbformat": 4,
  "nbformat_minor": 0,
  "metadata": {
    "colab": {
      "name": "CIFAR_QUIZ.ipynb",
      "provenance": [],
      "collapsed_sections": [],
      "toc_visible": true
    },
    "kernelspec": {
      "name": "python3",
      "display_name": "Python 3"
    },
    "accelerator": "GPU"
  },
  "cells": [
    {
      "cell_type": "code",
      "metadata": {
        "id": "b9akJcku2aKg",
        "colab_type": "code",
        "outputId": "372f77bf-da3d-4b9c-dbf4-a38722c104cf",
        "colab": {
          "base_uri": "https://localhost:8080/",
          "height": 54
        }
      },
      "source": [
        "from google.colab import drive\n",
        "drive.mount('/content/drive')"
      ],
      "execution_count": 1,
      "outputs": [
        {
          "output_type": "stream",
          "text": [
            "Drive already mounted at /content/drive; to attempt to forcibly remount, call drive.mount(\"/content/drive\", force_remount=True).\n"
          ],
          "name": "stdout"
        }
      ]
    },
    {
      "cell_type": "code",
      "metadata": {
        "id": "Fc1tp9kq1e57",
        "colab_type": "code",
        "colab": {}
      },
      "source": [
        "cd /content/drive/My Drive/Backup/EVP/S9/S9_quiz"
      ],
      "execution_count": 0,
      "outputs": []
    },
    {
      "cell_type": "code",
      "metadata": {
        "id": "Zz9I5Wkk2avH",
        "colab_type": "code",
        "colab": {}
      },
      "source": [
        "from __future__ import print_function\n",
        "import torch\n",
        "from torch.optim.lr_scheduler import OneCycleLR\n",
        "\n"
      ],
      "execution_count": 0,
      "outputs": []
    },
    {
      "cell_type": "markdown",
      "metadata": {
        "id": "YraaE-6L_IZl",
        "colab_type": "text"
      },
      "source": [
        "# Setting Seed for Reproducibility"
      ]
    },
    {
      "cell_type": "code",
      "metadata": {
        "id": "SuVfd6lW3KvZ",
        "colab_type": "code",
        "outputId": "a7a66c9f-400d-46fc-9cca-a844d58b43ab",
        "colab": {
          "base_uri": "https://localhost:8080/",
          "height": 34
        }
      },
      "source": [
        "SEED = 1\n",
        "\n",
        "# CUDA?\n",
        "cuda = torch.cuda.is_available()\n",
        "print(\"CUDA Available?\", cuda)\n",
        "\n",
        "# For reproducibility\n",
        "torch.manual_seed(SEED)\n",
        "\n",
        "if cuda:\n",
        "    torch.cuda.manual_seed(SEED)"
      ],
      "execution_count": 4,
      "outputs": [
        {
          "output_type": "stream",
          "text": [
            "CUDA Available? True\n"
          ],
          "name": "stdout"
        }
      ]
    },
    {
      "cell_type": "markdown",
      "metadata": {
        "id": "_YuwIsBZ_P_H",
        "colab_type": "text"
      },
      "source": [
        "# Data Loader\n"
      ]
    },
    {
      "cell_type": "code",
      "metadata": {
        "id": "_mETId3L_jOF",
        "colab_type": "code",
        "colab": {}
      },
      "source": [
        "import torchvision\n",
        "from torchvision import datasets, transforms"
      ],
      "execution_count": 0,
      "outputs": []
    },
    {
      "cell_type": "code",
      "metadata": {
        "id": "7xgHFaTz_FOW",
        "colab_type": "code",
        "outputId": "0e98de00-3354-4bba-8154-bc7c912eb467",
        "colab": {
          "base_uri": "https://localhost:8080/",
          "height": 51
        }
      },
      "source": [
        "train_transforms = transforms.Compose([\n",
        "                                      #  transforms.Resize((28, 28)),\n",
        "                                      #  transforms.ColorJitter(brightness=0.10, contrast=0.1, saturation=0.10, hue=0.1),\n",
        "                                       transforms.RandomHorizontalFlip(),\n",
        "                                       transforms.RandomCrop(size=32, padding=4),\n",
        "                                       transforms.ToTensor(),\n",
        "                                       transforms.Normalize((0.5, 0.5, 0.5), (0.5, 0.5, 0.5)), # The mean and std have to be sequences (e.g., tuples), therefore you should add a comma after the values. \n",
        "                                       # Note the difference between (0.1307) and (0.1307,)\n",
        "                                      #  transforms.RandomErasing()\n",
        "                                       ])\n",
        "\n",
        "test_transform = transforms.Compose(\n",
        "    [transforms.ToTensor(),\n",
        "     transforms.Normalize((0.5, 0.5, 0.5), (0.5, 0.5, 0.5))])\n",
        "\n",
        "dataloader_args = dict(batch_size=64, num_workers=4, pin_memory=True) if cuda else dict(shuffle=True, batch_size=64)\n",
        "\n",
        "\n",
        "trainset = torchvision.datasets.CIFAR10(root='./data', train=True,\n",
        "                                        download=True, transform=train_transforms)\n",
        "testset = torchvision.datasets.CIFAR10(root='./data', train=False,\n",
        "                                       download=True, transform=test_transform)\n",
        "\n",
        "\n",
        "train_loader = torch.utils.data.DataLoader(trainset,shuffle=True, **dataloader_args)\n",
        "test_loader = torch.utils.data.DataLoader(testset, shuffle=False,  **dataloader_args)\n",
        "\n",
        "classes = ('plane', 'car', 'bird', 'cat',\n",
        "           'deer', 'dog', 'frog', 'horse', 'ship', 'truck')"
      ],
      "execution_count": 6,
      "outputs": [
        {
          "output_type": "stream",
          "text": [
            "Files already downloaded and verified\n",
            "Files already downloaded and verified\n"
          ],
          "name": "stdout"
        }
      ]
    },
    {
      "cell_type": "markdown",
      "metadata": {
        "id": "gFmNYVqM_t3i",
        "colab_type": "text"
      },
      "source": [
        "## Visualise Data"
      ]
    },
    {
      "cell_type": "code",
      "metadata": {
        "id": "QrOfVcOA_Ue9",
        "colab_type": "code",
        "outputId": "defa43ad-9a2e-41a3-e819-11310aac7627",
        "colab": {
          "base_uri": "https://localhost:8080/",
          "height": 286
        }
      },
      "source": [
        "import matplotlib.pyplot as plt\n",
        "import numpy as np\n",
        "\n",
        "# functions to show an image\n",
        "\n",
        "\n",
        "def imshow(img):\n",
        "    img = img / 2 + 0.5     # unnormalize\n",
        "    npimg = img.numpy()\n",
        "    plt.imshow(np.transpose(npimg, (1, 2, 0)))\n",
        "\n",
        "\n",
        "# get some random training images\n",
        "dataiter = iter(train_loader)\n",
        "images, labels = dataiter.next()\n",
        "\n",
        "# show images\n",
        "imshow(torchvision.utils.make_grid(images))\n",
        "# print labels\n",
        "print(' '.join('%5s' % classes[labels[j]] for j in range(4)))"
      ],
      "execution_count": 7,
      "outputs": [
        {
          "output_type": "stream",
          "text": [
            "plane   dog  deer  deer\n"
          ],
          "name": "stdout"
        },
        {
          "output_type": "display_data",
          "data": {
            "image/png": "[encoded data removed]",
            "text/plain": [
              "<Figure size 432x288 with 1 Axes>"
            ]
          },
          "metadata": {
            "tags": []
          }
        }
      ]
    },
    {
      "cell_type": "code",
      "metadata": {
        "id": "LySEy4Mr_x2L",
        "colab_type": "code",
        "colab": {}
      },
      "source": [
        ""
      ],
      "execution_count": 0,
      "outputs": []
    },
    {
      "cell_type": "markdown",
      "metadata": {
        "id": "fICBRlkb_5uL",
        "colab_type": "text"
      },
      "source": [
        "# Model Summary\n"
      ]
    },
    {
      "cell_type": "code",
      "metadata": {
        "id": "TrqIvzLZAGEV",
        "colab_type": "code",
        "colab": {}
      },
      "source": [
        "from vision.models.QuizDNN import QuizDNN\n",
        "\n",
        "try:\n",
        "  from torchsummary import summary\n",
        "except:\n",
        "  !pip install torchsummary\n",
        "  from torchsummary import summary"
      ],
      "execution_count": 0,
      "outputs": []
    },
    {
      "cell_type": "code",
      "metadata": {
        "id": "7NitiPgN_9Bz",
        "colab_type": "code",
        "outputId": "9f405159-01ee-49ba-d09f-79c3d9a82835",
        "colab": {
          "base_uri": "https://localhost:8080/",
          "height": 819
        }
      },
      "source": [
        "use_cuda = torch.cuda.is_available()\n",
        "device = torch.device(\"cuda\" if use_cuda else \"cpu\")\n",
        "print(device)\n",
        "model = QuizDNN().to(device)\n",
        "summary(model, input_size=(3,32,32))"
      ],
      "execution_count": 11,
      "outputs": [
        {
          "output_type": "stream",
          "text": [
            "cuda\n",
            "Current Date/Time:  2020-03-21 19:14:13.379590\n",
            "----------------------------------------------------------------\n",
            "        Layer (type)               Output Shape         Param #\n",
            "================================================================\n",
            "            Conv2d-1           [-1, 16, 32, 32]              48\n",
            "            Conv2d-2           [-1, 16, 32, 32]           2,304\n",
            "            Conv2d-3           [-1, 16, 32, 32]           2,304\n",
            "       BatchNorm2d-4           [-1, 16, 32, 32]              32\n",
            "              ReLU-5           [-1, 16, 32, 32]               0\n",
            "           Dropout-6           [-1, 16, 32, 32]               0\n",
            "         MaxPool2d-7           [-1, 16, 16, 16]               0\n",
            "            Conv2d-8           [-1, 32, 16, 16]             512\n",
            "            Conv2d-9           [-1, 32, 16, 16]           9,216\n",
            "           Conv2d-10           [-1, 32, 16, 16]           9,216\n",
            "           Conv2d-11           [-1, 32, 16, 16]           9,216\n",
            "      BatchNorm2d-12           [-1, 32, 16, 16]              64\n",
            "             ReLU-13           [-1, 32, 16, 16]               0\n",
            "          Dropout-14           [-1, 32, 16, 16]               0\n",
            "        MaxPool2d-15             [-1, 32, 8, 8]               0\n",
            "           Conv2d-16             [-1, 64, 8, 8]           2,048\n",
            "           Conv2d-17             [-1, 64, 8, 8]          36,864\n",
            "      BatchNorm2d-18             [-1, 64, 8, 8]             128\n",
            "             ReLU-19             [-1, 64, 8, 8]               0\n",
            "          Dropout-20             [-1, 64, 8, 8]               0\n",
            "           Conv2d-21             [-1, 64, 8, 8]          36,864\n",
            "      BatchNorm2d-22             [-1, 64, 8, 8]             128\n",
            "             ReLU-23             [-1, 64, 8, 8]               0\n",
            "          Dropout-24             [-1, 64, 8, 8]               0\n",
            "           Conv2d-25             [-1, 64, 8, 8]          36,864\n",
            "      BatchNorm2d-26             [-1, 64, 8, 8]             128\n",
            "             ReLU-27             [-1, 64, 8, 8]               0\n",
            "          Dropout-28             [-1, 64, 8, 8]               0\n",
            "        AvgPool2d-29             [-1, 64, 1, 1]               0\n",
            "           Linear-30                   [-1, 10]             640\n",
            "================================================================\n",
            "Total params: 146,576\n",
            "Trainable params: 146,576\n",
            "Non-trainable params: 0\n",
            "----------------------------------------------------------------\n",
            "Input size (MB): 0.01\n",
            "Forward/backward pass size (MB): 1.64\n",
            "Params size (MB): 0.56\n",
            "Estimated Total Size (MB): 2.21\n",
            "----------------------------------------------------------------\n"
          ],
          "name": "stdout"
        },
        {
          "output_type": "stream",
          "text": [
            "/usr/local/lib/python3.6/dist-packages/ipykernel_launcher.py:98: UserWarning: Implicit dimension choice for log_softmax has been deprecated. Change the call to include dim=X as an argument.\n"
          ],
          "name": "stderr"
        }
      ]
    },
    {
      "cell_type": "markdown",
      "metadata": {
        "id": "yXsCQaSZAN4X",
        "colab_type": "text"
      },
      "source": [
        "# Train and Evaluate Model"
      ]
    },
    {
      "cell_type": "code",
      "metadata": {
        "id": "Yq35eOUPAeaI",
        "colab_type": "code",
        "outputId": "a0860ce6-071f-4fe9-fb6f-759f4b0a0c21",
        "colab": {
          "base_uri": "https://localhost:8080/",
          "height": 34
        }
      },
      "source": [
        "from vision.train.train_evaluate import Train\n",
        "import torch.nn as nn\n",
        "import torch.optim as optim"
      ],
      "execution_count": 12,
      "outputs": [
        {
          "output_type": "stream",
          "text": [
            "CUDA Available? True\n"
          ],
          "name": "stdout"
        }
      ]
    },
    {
      "cell_type": "markdown",
      "metadata": {
        "id": "gqYT-jskATO1",
        "colab_type": "text"
      },
      "source": [
        "## Initialising and setting hyper-parameters\n"
      ]
    },
    {
      "cell_type": "code",
      "metadata": {
        "id": "Xxjle9c2ANYS",
        "colab_type": "code",
        "colab": {
          "base_uri": "https://localhost:8080/",
          "height": 34
        },
        "outputId": "8f66d4a3-f8ca-4562-cd90-0c1376aec8ba"
      },
      "source": [
        "EPOCHS = 40\n",
        "learning_rate = 0.01\n",
        "use_cuda = torch.cuda.is_available()\n",
        "device = torch.device(\"cuda\" if use_cuda else \"cpu\")\n",
        "model = QuizDNN().to(device)\n",
        "criterion = nn.CrossEntropyLoss()\n",
        "optimizer = optim.SGD(model.parameters(), lr=learning_rate, momentum=0.9)\n",
        "# scheduler =None\n",
        "scheduler = optim.lr_scheduler.OneCycleLR(optimizer, max_lr=0.1, steps_per_epoch=len(train_loader), epochs=EPOCHS)\n"
      ],
      "execution_count": 13,
      "outputs": [
        {
          "output_type": "stream",
          "text": [
            "Current Date/Time:  2020-03-21 19:14:13.423340\n"
          ],
          "name": "stdout"
        }
      ]
    },
    {
      "cell_type": "markdown",
      "metadata": {
        "id": "mDWUOJdECPtI",
        "colab_type": "text"
      },
      "source": [
        "## Creating Config for Training "
      ]
    },
    {
      "cell_type": "code",
      "metadata": {
        "id": "s3ZduOWF_920",
        "colab_type": "code",
        "colab": {}
      },
      "source": [
        "config_list ={\n",
        "    \"device\": device,\n",
        "    \"model\": model,\n",
        "    \"EPOCHS\": EPOCHS,\n",
        "    \"criterion\": criterion,\n",
        "    \"optimizer\": optimizer,\n",
        "    \"scheduler\": scheduler,\n",
        "    \"logger\": None,\n",
        "    \"train_loader\": train_loader,\n",
        "    \"test_loader\" : test_loader,\n",
        "    \"flag_misclassified_images\": False\n",
        "}"
      ],
      "execution_count": 0,
      "outputs": []
    },
    {
      "cell_type": "markdown",
      "metadata": {
        "id": "-c8uj-GICcql",
        "colab_type": "text"
      },
      "source": [
        "## Create obj of Train and run for training\n"
      ]
    },
    {
      "cell_type": "code",
      "metadata": {
        "id": "eXKLS-L6CZw8",
        "colab_type": "code",
        "outputId": "49820696-c34f-48f9-dae0-f92981bf5fa1",
        "colab": {
          "base_uri": "https://localhost:8080/",
          "height": 1000
        }
      },
      "source": [
        "cifar_model_train = Train(config_list)\n",
        "cifar_model_train.run_model()"
      ],
      "execution_count": 15,
      "outputs": [
        {
          "output_type": "stream",
          "text": [
            "\r  0%|          | 0/782 [00:00<?, ?it/s]"
          ],
          "name": "stderr"
        },
        {
          "output_type": "stream",
          "text": [
            "EPOCH:1\n"
          ],
          "name": "stdout"
        },
        {
          "output_type": "stream",
          "text": [
            "/usr/local/lib/python3.6/dist-packages/ipykernel_launcher.py:98: UserWarning: Implicit dimension choice for log_softmax has been deprecated. Change the call to include dim=X as an argument.\n",
            "Loss=1.279077172279358 Batch_id=781 Accuracy=43.25: 100%|██████████| 782/782 [00:17<00:00, 45.60it/s]\n",
            "  0%|          | 0/782 [00:00<?, ?it/s]"
          ],
          "name": "stderr"
        },
        {
          "output_type": "stream",
          "text": [
            "\n",
            "Test set: Average loss: 0.0248, Accuracy: 4468/10000 (44.68%)\n",
            "\n",
            "EPOCH:2\n"
          ],
          "name": "stdout"
        },
        {
          "output_type": "stream",
          "text": [
            "Loss=1.0864818096160889 Batch_id=781 Accuracy=56.48: 100%|██████████| 782/782 [00:17<00:00, 44.21it/s]\n",
            "  0%|          | 0/782 [00:00<?, ?it/s]"
          ],
          "name": "stderr"
        },
        {
          "output_type": "stream",
          "text": [
            "\n",
            "Test set: Average loss: 0.0205, Accuracy: 5500/10000 (55.00%)\n",
            "\n",
            "EPOCH:3\n"
          ],
          "name": "stdout"
        },
        {
          "output_type": "stream",
          "text": [
            "Loss=1.3699097633361816 Batch_id=781 Accuracy=60.65: 100%|██████████| 782/782 [00:17<00:00, 45.05it/s]\n",
            "  0%|          | 0/782 [00:00<?, ?it/s]"
          ],
          "name": "stderr"
        },
        {
          "output_type": "stream",
          "text": [
            "\n",
            "Test set: Average loss: 0.0214, Accuracy: 5321/10000 (53.21%)\n",
            "\n",
            "EPOCH:4\n"
          ],
          "name": "stdout"
        },
        {
          "output_type": "stream",
          "text": [
            "Loss=1.2402592897415161 Batch_id=781 Accuracy=62.71: 100%|██████████| 782/782 [00:17<00:00, 44.80it/s]\n",
            "  0%|          | 0/782 [00:00<?, ?it/s]"
          ],
          "name": "stderr"
        },
        {
          "output_type": "stream",
          "text": [
            "\n",
            "Test set: Average loss: 0.0232, Accuracy: 4966/10000 (49.66%)\n",
            "\n",
            "EPOCH:5\n"
          ],
          "name": "stdout"
        },
        {
          "output_type": "stream",
          "text": [
            "Loss=1.1591159105300903 Batch_id=781 Accuracy=63.87: 100%|██████████| 782/782 [00:17<00:00, 44.95it/s]\n",
            "  0%|          | 0/782 [00:00<?, ?it/s]"
          ],
          "name": "stderr"
        },
        {
          "output_type": "stream",
          "text": [
            "\n",
            "Test set: Average loss: 0.0187, Accuracy: 5757/10000 (57.57%)\n",
            "\n",
            "EPOCH:6\n"
          ],
          "name": "stdout"
        },
        {
          "output_type": "stream",
          "text": [
            "Loss=1.822967290878296 Batch_id=781 Accuracy=65.64: 100%|██████████| 782/782 [00:17<00:00, 45.18it/s]\n",
            "  0%|          | 0/782 [00:00<?, ?it/s]"
          ],
          "name": "stderr"
        },
        {
          "output_type": "stream",
          "text": [
            "\n",
            "Test set: Average loss: 0.0208, Accuracy: 5455/10000 (54.55%)\n",
            "\n",
            "EPOCH:7\n"
          ],
          "name": "stdout"
        },
        {
          "output_type": "stream",
          "text": [
            "Loss=0.8099313974380493 Batch_id=781 Accuracy=66.55: 100%|██████████| 782/782 [00:17<00:00, 44.97it/s]\n",
            "  0%|          | 0/782 [00:00<?, ?it/s]"
          ],
          "name": "stderr"
        },
        {
          "output_type": "stream",
          "text": [
            "\n",
            "Test set: Average loss: 0.0302, Accuracy: 4369/10000 (43.69%)\n",
            "\n",
            "EPOCH:8\n"
          ],
          "name": "stdout"
        },
        {
          "output_type": "stream",
          "text": [
            "Loss=0.7690688371658325 Batch_id=781 Accuracy=67.26: 100%|██████████| 782/782 [00:17<00:00, 45.10it/s]\n",
            "  0%|          | 0/782 [00:00<?, ?it/s]"
          ],
          "name": "stderr"
        },
        {
          "output_type": "stream",
          "text": [
            "\n",
            "Test set: Average loss: 0.0350, Accuracy: 3912/10000 (39.12%)\n",
            "\n",
            "EPOCH:9\n"
          ],
          "name": "stdout"
        },
        {
          "output_type": "stream",
          "text": [
            "Loss=0.9013286232948303 Batch_id=781 Accuracy=68.34: 100%|██████████| 782/782 [00:17<00:00, 44.45it/s]\n",
            "  0%|          | 0/782 [00:00<?, ?it/s]"
          ],
          "name": "stderr"
        },
        {
          "output_type": "stream",
          "text": [
            "\n",
            "Test set: Average loss: 0.0184, Accuracy: 6189/10000 (61.89%)\n",
            "\n",
            "EPOCH:10\n"
          ],
          "name": "stdout"
        },
        {
          "output_type": "stream",
          "text": [
            "Loss=0.5168591737747192 Batch_id=781 Accuracy=68.99: 100%|██████████| 782/782 [00:17<00:00, 45.49it/s]\n",
            "  0%|          | 0/782 [00:00<?, ?it/s]"
          ],
          "name": "stderr"
        },
        {
          "output_type": "stream",
          "text": [
            "\n",
            "Test set: Average loss: 0.0199, Accuracy: 5707/10000 (57.07%)\n",
            "\n",
            "EPOCH:11\n"
          ],
          "name": "stdout"
        },
        {
          "output_type": "stream",
          "text": [
            "Loss=0.7866262197494507 Batch_id=781 Accuracy=69.76: 100%|██████████| 782/782 [00:17<00:00, 45.59it/s]\n",
            "  0%|          | 0/782 [00:00<?, ?it/s]"
          ],
          "name": "stderr"
        },
        {
          "output_type": "stream",
          "text": [
            "\n",
            "Test set: Average loss: 0.0164, Accuracy: 6323/10000 (63.23%)\n",
            "\n",
            "EPOCH:12\n"
          ],
          "name": "stdout"
        },
        {
          "output_type": "stream",
          "text": [
            "Loss=1.3332011699676514 Batch_id=781 Accuracy=70.38: 100%|██████████| 782/782 [00:17<00:00, 45.01it/s]\n",
            "  0%|          | 0/782 [00:00<?, ?it/s]"
          ],
          "name": "stderr"
        },
        {
          "output_type": "stream",
          "text": [
            "\n",
            "Test set: Average loss: 0.0217, Accuracy: 5532/10000 (55.32%)\n",
            "\n",
            "EPOCH:13\n"
          ],
          "name": "stdout"
        },
        {
          "output_type": "stream",
          "text": [
            "Loss=0.7597497701644897 Batch_id=781 Accuracy=71.11: 100%|██████████| 782/782 [00:17<00:00, 45.33it/s]\n",
            "  0%|          | 0/782 [00:00<?, ?it/s]"
          ],
          "name": "stderr"
        },
        {
          "output_type": "stream",
          "text": [
            "\n",
            "Test set: Average loss: 0.0137, Accuracy: 6977/10000 (69.77%)\n",
            "\n",
            "EPOCH:14\n"
          ],
          "name": "stdout"
        },
        {
          "output_type": "stream",
          "text": [
            "Loss=0.6116546392440796 Batch_id=781 Accuracy=71.53: 100%|██████████| 782/782 [00:17<00:00, 45.00it/s]\n",
            "  0%|          | 0/782 [00:00<?, ?it/s]"
          ],
          "name": "stderr"
        },
        {
          "output_type": "stream",
          "text": [
            "\n",
            "Test set: Average loss: 0.0131, Accuracy: 7063/10000 (70.63%)\n",
            "\n",
            "EPOCH:15\n"
          ],
          "name": "stdout"
        },
        {
          "output_type": "stream",
          "text": [
            "Loss=0.7400088906288147 Batch_id=781 Accuracy=72.26: 100%|██████████| 782/782 [00:17<00:00, 45.53it/s]\n",
            "  0%|          | 0/782 [00:00<?, ?it/s]"
          ],
          "name": "stderr"
        },
        {
          "output_type": "stream",
          "text": [
            "\n",
            "Test set: Average loss: 0.0155, Accuracy: 6673/10000 (66.73%)\n",
            "\n",
            "EPOCH:16\n"
          ],
          "name": "stdout"
        },
        {
          "output_type": "stream",
          "text": [
            "Loss=0.8733246326446533 Batch_id=781 Accuracy=73.09: 100%|██████████| 782/782 [00:17<00:00, 44.46it/s]\n",
            "  0%|          | 0/782 [00:00<?, ?it/s]"
          ],
          "name": "stderr"
        },
        {
          "output_type": "stream",
          "text": [
            "\n",
            "Test set: Average loss: 0.0265, Accuracy: 4928/10000 (49.28%)\n",
            "\n",
            "EPOCH:17\n"
          ],
          "name": "stdout"
        },
        {
          "output_type": "stream",
          "text": [
            "Loss=0.5034555792808533 Batch_id=781 Accuracy=73.10: 100%|██████████| 782/782 [00:17<00:00, 45.46it/s]\n",
            "  0%|          | 0/782 [00:00<?, ?it/s]"
          ],
          "name": "stderr"
        },
        {
          "output_type": "stream",
          "text": [
            "\n",
            "Test set: Average loss: 0.0153, Accuracy: 6797/10000 (67.97%)\n",
            "\n",
            "EPOCH:18\n"
          ],
          "name": "stdout"
        },
        {
          "output_type": "stream",
          "text": [
            "Loss=0.9316793084144592 Batch_id=781 Accuracy=73.72: 100%|██████████| 782/782 [00:17<00:00, 45.06it/s]\n",
            "  0%|          | 0/782 [00:00<?, ?it/s]"
          ],
          "name": "stderr"
        },
        {
          "output_type": "stream",
          "text": [
            "\n",
            "Test set: Average loss: 0.0127, Accuracy: 7148/10000 (71.48%)\n",
            "\n",
            "EPOCH:19\n"
          ],
          "name": "stdout"
        },
        {
          "output_type": "stream",
          "text": [
            "Loss=0.8239057064056396 Batch_id=781 Accuracy=74.17: 100%|██████████| 782/782 [00:17<00:00, 45.33it/s]\n",
            "  0%|          | 0/782 [00:00<?, ?it/s]"
          ],
          "name": "stderr"
        },
        {
          "output_type": "stream",
          "text": [
            "\n",
            "Test set: Average loss: 0.0141, Accuracy: 6912/10000 (69.12%)\n",
            "\n",
            "EPOCH:20\n"
          ],
          "name": "stdout"
        },
        {
          "output_type": "stream",
          "text": [
            "Loss=1.123225450515747 Batch_id=781 Accuracy=74.00: 100%|██████████| 782/782 [00:17<00:00, 45.54it/s]\n",
            "  0%|          | 0/782 [00:00<?, ?it/s]"
          ],
          "name": "stderr"
        },
        {
          "output_type": "stream",
          "text": [
            "\n",
            "Test set: Average loss: 0.0136, Accuracy: 7055/10000 (70.55%)\n",
            "\n",
            "EPOCH:21\n"
          ],
          "name": "stdout"
        },
        {
          "output_type": "stream",
          "text": [
            "Loss=1.1332334280014038 Batch_id=781 Accuracy=74.86: 100%|██████████| 782/782 [00:17<00:00, 45.22it/s]\n",
            "  0%|          | 0/782 [00:00<?, ?it/s]"
          ],
          "name": "stderr"
        },
        {
          "output_type": "stream",
          "text": [
            "\n",
            "Test set: Average loss: 0.0133, Accuracy: 7158/10000 (71.58%)\n",
            "\n",
            "EPOCH:22\n"
          ],
          "name": "stdout"
        },
        {
          "output_type": "stream",
          "text": [
            "Loss=0.8726934194564819 Batch_id=781 Accuracy=75.52: 100%|██████████| 782/782 [00:17<00:00, 45.43it/s]\n",
            "  0%|          | 0/782 [00:00<?, ?it/s]"
          ],
          "name": "stderr"
        },
        {
          "output_type": "stream",
          "text": [
            "\n",
            "Test set: Average loss: 0.0180, Accuracy: 5912/10000 (59.12%)\n",
            "\n",
            "EPOCH:23\n"
          ],
          "name": "stdout"
        },
        {
          "output_type": "stream",
          "text": [
            "Loss=1.0544443130493164 Batch_id=781 Accuracy=75.62: 100%|██████████| 782/782 [00:17<00:00, 45.33it/s]\n",
            "  0%|          | 0/782 [00:00<?, ?it/s]"
          ],
          "name": "stderr"
        },
        {
          "output_type": "stream",
          "text": [
            "\n",
            "Test set: Average loss: 0.0118, Accuracy: 7355/10000 (73.55%)\n",
            "\n",
            "EPOCH:24\n"
          ],
          "name": "stdout"
        },
        {
          "output_type": "stream",
          "text": [
            "Loss=1.1435766220092773 Batch_id=781 Accuracy=76.26: 100%|██████████| 782/782 [00:17<00:00, 45.43it/s]\n",
            "  0%|          | 0/782 [00:00<?, ?it/s]"
          ],
          "name": "stderr"
        },
        {
          "output_type": "stream",
          "text": [
            "\n",
            "Test set: Average loss: 0.0128, Accuracy: 7175/10000 (71.75%)\n",
            "\n",
            "EPOCH:25\n"
          ],
          "name": "stdout"
        },
        {
          "output_type": "stream",
          "text": [
            "Loss=0.4627472758293152 Batch_id=781 Accuracy=76.72: 100%|██████████| 782/782 [00:17<00:00, 45.13it/s]\n",
            "  0%|          | 0/782 [00:00<?, ?it/s]"
          ],
          "name": "stderr"
        },
        {
          "output_type": "stream",
          "text": [
            "\n",
            "Test set: Average loss: 0.0137, Accuracy: 6938/10000 (69.38%)\n",
            "\n",
            "EPOCH:26\n"
          ],
          "name": "stdout"
        },
        {
          "output_type": "stream",
          "text": [
            "Loss=0.6389510035514832 Batch_id=781 Accuracy=77.11: 100%|██████████| 782/782 [00:17<00:00, 45.57it/s]\n",
            "  0%|          | 0/782 [00:00<?, ?it/s]"
          ],
          "name": "stderr"
        },
        {
          "output_type": "stream",
          "text": [
            "\n",
            "Test set: Average loss: 0.0170, Accuracy: 6418/10000 (64.18%)\n",
            "\n",
            "EPOCH:27\n"
          ],
          "name": "stdout"
        },
        {
          "output_type": "stream",
          "text": [
            "Loss=0.7600013613700867 Batch_id=781 Accuracy=77.91: 100%|██████████| 782/782 [00:17<00:00, 45.69it/s]\n",
            "  0%|          | 0/782 [00:00<?, ?it/s]"
          ],
          "name": "stderr"
        },
        {
          "output_type": "stream",
          "text": [
            "\n",
            "Test set: Average loss: 0.0116, Accuracy: 7348/10000 (73.48%)\n",
            "\n",
            "EPOCH:28\n"
          ],
          "name": "stdout"
        },
        {
          "output_type": "stream",
          "text": [
            "Loss=0.5414016246795654 Batch_id=781 Accuracy=78.47: 100%|██████████| 782/782 [00:17<00:00, 45.59it/s]\n",
            "  0%|          | 0/782 [00:00<?, ?it/s]"
          ],
          "name": "stderr"
        },
        {
          "output_type": "stream",
          "text": [
            "\n",
            "Test set: Average loss: 0.0117, Accuracy: 7443/10000 (74.43%)\n",
            "\n",
            "EPOCH:29\n"
          ],
          "name": "stdout"
        },
        {
          "output_type": "stream",
          "text": [
            "Loss=0.8317157626152039 Batch_id=781 Accuracy=78.86: 100%|██████████| 782/782 [00:17<00:00, 45.36it/s]\n",
            "  0%|          | 0/782 [00:00<?, ?it/s]"
          ],
          "name": "stderr"
        },
        {
          "output_type": "stream",
          "text": [
            "\n",
            "Test set: Average loss: 0.0122, Accuracy: 7404/10000 (74.04%)\n",
            "\n",
            "EPOCH:30\n"
          ],
          "name": "stdout"
        },
        {
          "output_type": "stream",
          "text": [
            "Loss=0.4780600070953369 Batch_id=781 Accuracy=79.47: 100%|██████████| 782/782 [00:17<00:00, 45.64it/s]\n",
            "  0%|          | 0/782 [00:00<?, ?it/s]"
          ],
          "name": "stderr"
        },
        {
          "output_type": "stream",
          "text": [
            "\n",
            "Test set: Average loss: 0.0103, Accuracy: 7808/10000 (78.08%)\n",
            "\n",
            "EPOCH:31\n"
          ],
          "name": "stdout"
        },
        {
          "output_type": "stream",
          "text": [
            "Loss=0.5352783203125 Batch_id=781 Accuracy=80.18: 100%|██████████| 782/782 [00:16<00:00, 46.02it/s]\n",
            "  0%|          | 0/782 [00:00<?, ?it/s]"
          ],
          "name": "stderr"
        },
        {
          "output_type": "stream",
          "text": [
            "\n",
            "Test set: Average loss: 0.0097, Accuracy: 7832/10000 (78.32%)\n",
            "\n",
            "EPOCH:32\n"
          ],
          "name": "stdout"
        },
        {
          "output_type": "stream",
          "text": [
            "Loss=0.2992473542690277 Batch_id=781 Accuracy=80.52: 100%|██████████| 782/782 [00:17<00:00, 45.52it/s]\n",
            "  0%|          | 0/782 [00:00<?, ?it/s]"
          ],
          "name": "stderr"
        },
        {
          "output_type": "stream",
          "text": [
            "\n",
            "Test set: Average loss: 0.0096, Accuracy: 7929/10000 (79.29%)\n",
            "\n",
            "EPOCH:33\n"
          ],
          "name": "stdout"
        },
        {
          "output_type": "stream",
          "text": [
            "Loss=0.31381911039352417 Batch_id=781 Accuracy=81.49: 100%|██████████| 782/782 [00:17<00:00, 45.76it/s]\n",
            "  0%|          | 0/782 [00:00<?, ?it/s]"
          ],
          "name": "stderr"
        },
        {
          "output_type": "stream",
          "text": [
            "\n",
            "Test set: Average loss: 0.0088, Accuracy: 8092/10000 (80.92%)\n",
            "\n",
            "EPOCH:34\n"
          ],
          "name": "stdout"
        },
        {
          "output_type": "stream",
          "text": [
            "Loss=1.2133269309997559 Batch_id=781 Accuracy=82.23: 100%|██████████| 782/782 [00:17<00:00, 44.69it/s]\n",
            "  0%|          | 0/782 [00:00<?, ?it/s]"
          ],
          "name": "stderr"
        },
        {
          "output_type": "stream",
          "text": [
            "\n",
            "Test set: Average loss: 0.0083, Accuracy: 8191/10000 (81.91%)\n",
            "\n",
            "EPOCH:35\n"
          ],
          "name": "stdout"
        },
        {
          "output_type": "stream",
          "text": [
            "Loss=0.786124050617218 Batch_id=781 Accuracy=83.17: 100%|██████████| 782/782 [00:17<00:00, 45.37it/s]\n",
            "  0%|          | 0/782 [00:00<?, ?it/s]"
          ],
          "name": "stderr"
        },
        {
          "output_type": "stream",
          "text": [
            "\n",
            "Test set: Average loss: 0.0081, Accuracy: 8196/10000 (81.96%)\n",
            "\n",
            "EPOCH:36\n"
          ],
          "name": "stdout"
        },
        {
          "output_type": "stream",
          "text": [
            "Loss=0.5877670645713806 Batch_id=781 Accuracy=83.75: 100%|██████████| 782/782 [00:17<00:00, 45.95it/s]\n",
            "  0%|          | 0/782 [00:00<?, ?it/s]"
          ],
          "name": "stderr"
        },
        {
          "output_type": "stream",
          "text": [
            "\n",
            "Test set: Average loss: 0.0079, Accuracy: 8289/10000 (82.89%)\n",
            "\n",
            "EPOCH:37\n"
          ],
          "name": "stdout"
        },
        {
          "output_type": "stream",
          "text": [
            "Loss=0.31903189420700073 Batch_id=781 Accuracy=84.10: 100%|██████████| 782/782 [00:17<00:00, 45.27it/s]\n",
            "  0%|          | 0/782 [00:00<?, ?it/s]"
          ],
          "name": "stderr"
        },
        {
          "output_type": "stream",
          "text": [
            "\n",
            "Test set: Average loss: 0.0079, Accuracy: 8278/10000 (82.78%)\n",
            "\n",
            "EPOCH:38\n"
          ],
          "name": "stdout"
        },
        {
          "output_type": "stream",
          "text": [
            "Loss=0.8388347625732422 Batch_id=781 Accuracy=84.79: 100%|██████████| 782/782 [00:17<00:00, 45.54it/s]\n",
            "  0%|          | 0/782 [00:00<?, ?it/s]"
          ],
          "name": "stderr"
        },
        {
          "output_type": "stream",
          "text": [
            "\n",
            "Test set: Average loss: 0.0076, Accuracy: 8334/10000 (83.34%)\n",
            "\n",
            "EPOCH:39\n"
          ],
          "name": "stdout"
        },
        {
          "output_type": "stream",
          "text": [
            "Loss=0.5291562080383301 Batch_id=781 Accuracy=84.92: 100%|██████████| 782/782 [00:17<00:00, 45.68it/s]\n",
            "  0%|          | 0/782 [00:00<?, ?it/s]"
          ],
          "name": "stderr"
        },
        {
          "output_type": "stream",
          "text": [
            "\n",
            "Test set: Average loss: 0.0076, Accuracy: 8320/10000 (83.20%)\n",
            "\n",
            "EPOCH:40\n"
          ],
          "name": "stdout"
        },
        {
          "output_type": "stream",
          "text": [
            "Loss=0.3814195692539215 Batch_id=781 Accuracy=85.21: 100%|██████████| 782/782 [00:17<00:00, 45.58it/s]\n"
          ],
          "name": "stderr"
        },
        {
          "output_type": "stream",
          "text": [
            "\n",
            "Test set: Average loss: 0.0076, Accuracy: 8343/10000 (83.43%)\n",
            "\n"
          ],
          "name": "stdout"
        }
      ]
    },
    {
      "cell_type": "code",
      "metadata": {
        "id": "nCyHFg3iCmQS",
        "colab_type": "code",
        "outputId": "9450528c-cf65-4cc3-de1e-da87bb313f40",
        "colab": {
          "base_uri": "https://localhost:8080/",
          "height": 404
        }
      },
      "source": [
        "cifar_model_train.plot_loss_graph()"
      ],
      "execution_count": 16,
      "outputs": [
        {
          "output_type": "display_data",
          "data": {
            "image/png": "[encoded data removed]",
            "text/plain": [
              "<Figure size 720x432 with 1 Axes>"
            ]
          },
          "metadata": {
            "tags": []
          }
        }
      ]
    },
    {
      "cell_type": "code",
      "metadata": {
        "id": "ldK4JTBYNx-g",
        "colab_type": "code",
        "outputId": "ef0d5119-59f9-42f6-8725-d0e7bae148d7",
        "colab": {
          "base_uri": "https://localhost:8080/",
          "height": 404
        }
      },
      "source": [
        "cifar_model_train.plot_acc_graph()"
      ],
      "execution_count": 17,
      "outputs": [
        {
          "output_type": "display_data",
          "data": {
            "image/png": "[encoded data removed]",
            "text/plain": [
              "<Figure size 720x432 with 1 Axes>"
            ]
          },
          "metadata": {
            "tags": []
          }
        }
      ]
    },
    {
      "cell_type": "code",
      "metadata": {
        "id": "_fs3diNUI6C8",
        "colab_type": "code",
        "colab": {}
      },
      "source": [
        "%matplotlib inline"
      ],
      "execution_count": 0,
      "outputs": []
    },
    {
      "cell_type": "code",
      "metadata": {
        "id": "RIWqjh8tNfSk",
        "colab_type": "code",
        "colab": {}
      },
      "source": [
        ""
      ],
      "execution_count": 0,
      "outputs": []
    }
  ]
}