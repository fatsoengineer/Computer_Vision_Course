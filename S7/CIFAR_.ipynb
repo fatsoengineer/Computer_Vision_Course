{
  "nbformat": 4,
  "nbformat_minor": 0,
  "metadata": {
    "colab": {
      "name": "CIFAR_.ipynb",
      "provenance": [],
      "collapsed_sections": [],
      "toc_visible": true
    },
    "kernelspec": {
      "name": "python3",
      "display_name": "Python 3"
    },
    "accelerator": "GPU"
  },
  "cells": [
    {
      "cell_type": "code",
      "metadata": {
        "id": "b9akJcku2aKg",
        "colab_type": "code",
        "colab": {
          "base_uri": "https://localhost:8080/",
          "height": 54
        },
        "outputId": "37a80b45-05c0-4dcb-d91a-07df2c99c1e0"
      },
      "source": [
        "from google.colab import drive\n",
        "drive.mount('/content/drive')"
      ],
      "execution_count": 19,
      "outputs": [
        {
          "output_type": "stream",
          "text": [
            "Drive already mounted at /content/drive; to attempt to forcibly remount, call drive.mount(\"/content/drive\", force_remount=True).\n"
          ],
          "name": "stdout"
        }
      ]
    },
    {
      "cell_type": "code",
      "metadata": {
        "id": "Fc1tp9kq1e57",
        "colab_type": "code",
        "colab": {
          "base_uri": "https://localhost:8080/",
          "height": 34
        },
        "outputId": "264f84ef-fdfa-4cac-f54b-f624d0fdaad9"
      },
      "source": [
        "cd /content/drive/My Drive/Backup/EVP/S7"
      ],
      "execution_count": 20,
      "outputs": [
        {
          "output_type": "stream",
          "text": [
            "/content/drive/My Drive/Backup/EVP/S7\n"
          ],
          "name": "stdout"
        }
      ]
    },
    {
      "cell_type": "code",
      "metadata": {
        "id": "Zz9I5Wkk2avH",
        "colab_type": "code",
        "colab": {}
      },
      "source": [
        "from __future__ import print_function\n",
        "import torch\n",
        "from torch.optim.lr_scheduler import OneCycleLR\n",
        "\n"
      ],
      "execution_count": 0,
      "outputs": []
    },
    {
      "cell_type": "markdown",
      "metadata": {
        "id": "YraaE-6L_IZl",
        "colab_type": "text"
      },
      "source": [
        "# Setting Seed for Reproducibility"
      ]
    },
    {
      "cell_type": "code",
      "metadata": {
        "id": "SuVfd6lW3KvZ",
        "colab_type": "code",
        "colab": {
          "base_uri": "https://localhost:8080/",
          "height": 34
        },
        "outputId": "3e5f14a2-9ed2-46a2-fbd5-3c31dc84b71e"
      },
      "source": [
        "SEED = 2\n",
        "\n",
        "# CUDA?\n",
        "cuda = torch.cuda.is_available()\n",
        "print(\"CUDA Available?\", cuda)\n",
        "\n",
        "# For reproducibility\n",
        "torch.manual_seed(SEED)\n",
        "\n",
        "if cuda:\n",
        "    torch.cuda.manual_seed(SEED)"
      ],
      "execution_count": 22,
      "outputs": [
        {
          "output_type": "stream",
          "text": [
            "CUDA Available? True\n"
          ],
          "name": "stdout"
        }
      ]
    },
    {
      "cell_type": "markdown",
      "metadata": {
        "id": "_YuwIsBZ_P_H",
        "colab_type": "text"
      },
      "source": [
        "# Data Loader\n"
      ]
    },
    {
      "cell_type": "code",
      "metadata": {
        "id": "_mETId3L_jOF",
        "colab_type": "code",
        "colab": {}
      },
      "source": [
        "import torchvision\n",
        "from torchvision import datasets, transforms"
      ],
      "execution_count": 0,
      "outputs": []
    },
    {
      "cell_type": "code",
      "metadata": {
        "id": "7xgHFaTz_FOW",
        "colab_type": "code",
        "colab": {
          "base_uri": "https://localhost:8080/",
          "height": 51
        },
        "outputId": "7af8797e-f680-48ef-c420-72880f3e2c73"
      },
      "source": [
        "transform = transforms.Compose(\n",
        "    [transforms.ToTensor(),\n",
        "     transforms.Normalize((0.5, 0.5, 0.5), (0.5, 0.5, 0.5))])\n",
        "\n",
        "dataloader_args = dict(batch_size=64, num_workers=4, pin_memory=True) if cuda else dict(shuffle=True, batch_size=64)\n",
        "\n",
        "\n",
        "trainset = torchvision.datasets.CIFAR10(root='./data', train=True,\n",
        "                                        download=True, transform=transform)\n",
        "testset = torchvision.datasets.CIFAR10(root='./data', train=False,\n",
        "                                       download=True, transform=transform)\n",
        "\n",
        "\n",
        "train_loader = torch.utils.data.DataLoader(trainset,shuffle=True, **dataloader_args)\n",
        "test_loader = torch.utils.data.DataLoader(testset, shuffle=False,  **dataloader_args)\n",
        "\n",
        "classes = ('plane', 'car', 'bird', 'cat',\n",
        "           'deer', 'dog', 'frog', 'horse', 'ship', 'truck')"
      ],
      "execution_count": 24,
      "outputs": [
        {
          "output_type": "stream",
          "text": [
            "Files already downloaded and verified\n",
            "Files already downloaded and verified\n"
          ],
          "name": "stdout"
        }
      ]
    },
    {
      "cell_type": "markdown",
      "metadata": {
        "id": "gFmNYVqM_t3i",
        "colab_type": "text"
      },
      "source": [
        "## Visualise Data"
      ]
    },
    {
      "cell_type": "code",
      "metadata": {
        "id": "QrOfVcOA_Ue9",
        "colab_type": "code",
        "colab": {
          "base_uri": "https://localhost:8080/",
          "height": 286
        },
        "outputId": "598c9da0-fcce-4cef-8306-935c70f1173f"
      },
      "source": [
        "import matplotlib.pyplot as plt\n",
        "import numpy as np\n",
        "\n",
        "# functions to show an image\n",
        "\n",
        "\n",
        "def imshow(img):\n",
        "    img = img / 2 + 0.5     # unnormalize\n",
        "    npimg = img.numpy()\n",
        "    plt.imshow(np.transpose(npimg, (1, 2, 0)))\n",
        "\n",
        "\n",
        "# get some random training images\n",
        "dataiter = iter(train_loader)\n",
        "images, labels = dataiter.next()\n",
        "\n",
        "# show images\n",
        "imshow(torchvision.utils.make_grid(images))\n",
        "# print labels\n",
        "print(' '.join('%5s' % classes[labels[j]] for j in range(4)))"
      ],
      "execution_count": 25,
      "outputs": [
        {
          "output_type": "stream",
          "text": [
            "horse   cat   car horse\n"
          ],
          "name": "stdout"
        },
        {
          "output_type": "display_data",
          "data": {
            "image/png": "[encoded data removed]",
            "text/plain": [
              "<Figure size 432x288 with 1 Axes>"
            ]
          },
          "metadata": {
            "tags": []
          }
        }
      ]
    },
    {
      "cell_type": "code",
      "metadata": {
        "id": "LySEy4Mr_x2L",
        "colab_type": "code",
        "colab": {}
      },
      "source": [
        ""
      ],
      "execution_count": 0,
      "outputs": []
    },
    {
      "cell_type": "markdown",
      "metadata": {
        "id": "fICBRlkb_5uL",
        "colab_type": "text"
      },
      "source": [
        "# Model Summary\n"
      ]
    },
    {
      "cell_type": "code",
      "metadata": {
        "id": "TrqIvzLZAGEV",
        "colab_type": "code",
        "colab": {}
      },
      "source": [
        "from vision.models.cifar_model_custom import Cifar\n",
        "\n",
        "try:\n",
        "  from torchsummary import summary\n",
        "except:\n",
        "  !pip install torchsummary\n",
        "  from torchsummary import summary"
      ],
      "execution_count": 0,
      "outputs": []
    },
    {
      "cell_type": "code",
      "metadata": {
        "id": "7NitiPgN_9Bz",
        "colab_type": "code",
        "colab": {
          "base_uri": "https://localhost:8080/",
          "height": 1000
        },
        "outputId": "5119d406-839e-4a5e-cd54-34f4557eee1e"
      },
      "source": [
        "use_cuda = torch.cuda.is_available()\n",
        "device = torch.device(\"cuda\" if use_cuda else \"cpu\")\n",
        "print(device)\n",
        "model = Cifar().to(device)\n",
        "summary(model, input_size=(3,32,32))"
      ],
      "execution_count": 27,
      "outputs": [
        {
          "output_type": "stream",
          "text": [
            "cuda\n",
            "----------------------------------------------------------------\n",
            "        Layer (type)               Output Shape         Param #\n",
            "================================================================\n",
            "            Conv2d-1            [-1, 3, 32, 32]              27\n",
            "            Conv2d-2           [-1, 16, 32, 32]              48\n",
            "       BatchNorm2d-3           [-1, 16, 32, 32]              32\n",
            "              ReLU-4           [-1, 16, 32, 32]               0\n",
            "           Dropout-5           [-1, 16, 32, 32]               0\n",
            "            Conv2d-6           [-1, 16, 32, 32]             144\n",
            "            Conv2d-7           [-1, 16, 32, 32]             256\n",
            "       BatchNorm2d-8           [-1, 16, 32, 32]              32\n",
            "              ReLU-9           [-1, 16, 32, 32]               0\n",
            "          Dropout-10           [-1, 16, 32, 32]               0\n",
            "        MaxPool2d-11           [-1, 16, 16, 16]               0\n",
            "           Conv2d-12           [-1, 16, 16, 16]             144\n",
            "           Conv2d-13           [-1, 32, 16, 16]             512\n",
            "      BatchNorm2d-14           [-1, 32, 16, 16]              64\n",
            "             ReLU-15           [-1, 32, 16, 16]               0\n",
            "          Dropout-16           [-1, 32, 16, 16]               0\n",
            "           Conv2d-17           [-1, 32, 16, 16]             288\n",
            "           Conv2d-18           [-1, 32, 16, 16]           1,024\n",
            "      BatchNorm2d-19           [-1, 32, 16, 16]              64\n",
            "             ReLU-20           [-1, 32, 16, 16]               0\n",
            "          Dropout-21           [-1, 32, 16, 16]               0\n",
            "           Conv2d-22           [-1, 32, 16, 16]           9,216\n",
            "      BatchNorm2d-23           [-1, 32, 16, 16]              64\n",
            "          Dropout-24           [-1, 32, 16, 16]               0\n",
            "             ReLU-25           [-1, 32, 16, 16]               0\n",
            "        MaxPool2d-26             [-1, 32, 8, 8]               0\n",
            "           Conv2d-27             [-1, 32, 8, 8]             288\n",
            "           Conv2d-28             [-1, 64, 8, 8]           2,048\n",
            "      BatchNorm2d-29             [-1, 64, 8, 8]             128\n",
            "             ReLU-30             [-1, 64, 8, 8]               0\n",
            "          Dropout-31             [-1, 64, 8, 8]               0\n",
            "           Conv2d-32             [-1, 64, 8, 8]             576\n",
            "           Conv2d-33             [-1, 64, 8, 8]           4,096\n",
            "      BatchNorm2d-34             [-1, 64, 8, 8]             128\n",
            "             ReLU-35             [-1, 64, 8, 8]               0\n",
            "          Dropout-36             [-1, 64, 8, 8]               0\n",
            "           Conv2d-37             [-1, 64, 8, 8]             576\n",
            "           Conv2d-38             [-1, 64, 8, 8]           4,096\n",
            "      BatchNorm2d-39             [-1, 64, 8, 8]             128\n",
            "             ReLU-40             [-1, 64, 8, 8]               0\n",
            "          Dropout-41             [-1, 64, 8, 8]               0\n",
            "        MaxPool2d-42             [-1, 64, 4, 4]               0\n",
            "           Conv2d-43             [-1, 64, 4, 4]             576\n",
            "           Conv2d-44            [-1, 128, 4, 4]           8,192\n",
            "      BatchNorm2d-45            [-1, 128, 4, 4]             256\n",
            "             ReLU-46            [-1, 128, 4, 4]               0\n",
            "          Dropout-47            [-1, 128, 4, 4]               0\n",
            "           Conv2d-48            [-1, 128, 4, 4]           1,152\n",
            "           Conv2d-49            [-1, 128, 4, 4]          16,384\n",
            "        AvgPool2d-50            [-1, 128, 1, 1]               0\n",
            "           Conv2d-51             [-1, 10, 1, 1]           1,280\n",
            "================================================================\n",
            "Total params: 51,819\n",
            "Trainable params: 51,819\n",
            "Non-trainable params: 0\n",
            "----------------------------------------------------------------\n",
            "Input size (MB): 0.01\n",
            "Forward/backward pass size (MB): 2.60\n",
            "Params size (MB): 0.20\n",
            "Estimated Total Size (MB): 2.81\n",
            "----------------------------------------------------------------\n"
          ],
          "name": "stdout"
        }
      ]
    },
    {
      "cell_type": "markdown",
      "metadata": {
        "id": "yXsCQaSZAN4X",
        "colab_type": "text"
      },
      "source": [
        "# Train and Evaluate Model"
      ]
    },
    {
      "cell_type": "code",
      "metadata": {
        "id": "Yq35eOUPAeaI",
        "colab_type": "code",
        "colab": {}
      },
      "source": [
        "from vision.train.train_evaluate import Train\n",
        "import torch.nn as nn\n",
        "import torch.optim as optim"
      ],
      "execution_count": 0,
      "outputs": []
    },
    {
      "cell_type": "markdown",
      "metadata": {
        "id": "gqYT-jskATO1",
        "colab_type": "text"
      },
      "source": [
        "## Initialising and setting hyper-parameters\n"
      ]
    },
    {
      "cell_type": "code",
      "metadata": {
        "id": "Xxjle9c2ANYS",
        "colab_type": "code",
        "colab": {}
      },
      "source": [
        "EPOCHS = 50\n",
        "learning_rate = 0.001\n",
        "use_cuda = torch.cuda.is_available()\n",
        "device = torch.device(\"cuda\" if use_cuda else \"cpu\")\n",
        "model = Cifar().to(device)\n",
        "criterion = nn.CrossEntropyLoss()\n",
        "optimizer = optim.SGD(model.parameters(), lr=learning_rate, momentum=0.9)\n",
        "scheduler = optim.lr_scheduler.OneCycleLR(optimizer, max_lr=0.1, steps_per_epoch=len(train_loader), epochs=EPOCHS)"
      ],
      "execution_count": 0,
      "outputs": []
    },
    {
      "cell_type": "markdown",
      "metadata": {
        "id": "mDWUOJdECPtI",
        "colab_type": "text"
      },
      "source": [
        "## Creating Config for Training "
      ]
    },
    {
      "cell_type": "code",
      "metadata": {
        "id": "s3ZduOWF_920",
        "colab_type": "code",
        "colab": {}
      },
      "source": [
        "config_list ={\n",
        "    \"device\": device,\n",
        "    \"model\": model,\n",
        "    \"EPOCHS\": EPOCHS,\n",
        "    \"criterion\": criterion,\n",
        "    \"optimizer\": optimizer,\n",
        "    \"scheduler\": scheduler,\n",
        "    \"logger\": None,\n",
        "    \"train_loader\": train_loader,\n",
        "    \"test_loader\" : test_loader,\n",
        "    \"flag_misclassified_images\": False\n",
        "}"
      ],
      "execution_count": 0,
      "outputs": []
    },
    {
      "cell_type": "markdown",
      "metadata": {
        "id": "-c8uj-GICcql",
        "colab_type": "text"
      },
      "source": [
        "## Create obj of Train and run for training\n"
      ]
    },
    {
      "cell_type": "code",
      "metadata": {
        "id": "eXKLS-L6CZw8",
        "colab_type": "code",
        "colab": {
          "base_uri": "https://localhost:8080/",
          "height": 1000
        },
        "outputId": "5c9ca69d-ea21-4d24-ab98-ed70cbbf61cc"
      },
      "source": [
        "cifar_model_train = Train(config_list)\n",
        "cifar_model_train.run_model()"
      ],
      "execution_count": 31,
      "outputs": [
        {
          "output_type": "stream",
          "text": [
            "\r  0%|          | 0/782 [00:00<?, ?it/s]"
          ],
          "name": "stderr"
        },
        {
          "output_type": "stream",
          "text": [
            "EPOCH:1 | LR: [0.0040000000000000036]\n"
          ],
          "name": "stdout"
        },
        {
          "output_type": "stream",
          "text": [
            "Loss=1.6798460483551025 Batch_id=781 Accuracy=32.09: 100%|██████████| 782/782 [00:15<00:00, 50.00it/s]\n",
            "  0%|          | 0/782 [00:00<?, ?it/s]"
          ],
          "name": "stderr"
        },
        {
          "output_type": "stream",
          "text": [
            "\n",
            "Test set: Average loss: 0.0269, Accuracy: 3811/10000 (38.11%)\n",
            "\n",
            "EPOCH:2 | LR: [0.005049093376396807]\n"
          ],
          "name": "stdout"
        },
        {
          "output_type": "stream",
          "text": [
            "Loss=1.108437180519104 Batch_id=781 Accuracy=53.43: 100%|██████████| 782/782 [00:15<00:00, 49.43it/s]\n",
            "  0%|          | 0/782 [00:00<?, ?it/s]"
          ],
          "name": "stderr"
        },
        {
          "output_type": "stream",
          "text": [
            "\n",
            "Test set: Average loss: 0.0228, Accuracy: 4850/10000 (48.50%)\n",
            "\n",
            "EPOCH:3 | LR: [0.008150515300903896]\n"
          ],
          "name": "stdout"
        },
        {
          "output_type": "stream",
          "text": [
            "Loss=0.6482953429222107 Batch_id=781 Accuracy=59.63: 100%|██████████| 782/782 [00:15<00:00, 49.78it/s]\n",
            "  0%|          | 0/782 [00:00<?, ?it/s]"
          ],
          "name": "stderr"
        },
        {
          "output_type": "stream",
          "text": [
            "\n",
            "Test set: Average loss: 0.0189, Accuracy: 5803/10000 (58.03%)\n",
            "\n",
            "EPOCH:4 | LR: [0.013168695723587434]\n"
          ],
          "name": "stdout"
        },
        {
          "output_type": "stream",
          "text": [
            "Loss=0.882469654083252 Batch_id=781 Accuracy=62.88: 100%|██████████| 782/782 [00:15<00:00, 49.65it/s]\n",
            "  0%|          | 0/782 [00:00<?, ?it/s]"
          ],
          "name": "stderr"
        },
        {
          "output_type": "stream",
          "text": [
            "\n",
            "Test set: Average loss: 0.0200, Accuracy: 5466/10000 (54.66%)\n",
            "\n",
            "EPOCH:5 | LR: [0.019884278817655685]\n"
          ],
          "name": "stdout"
        },
        {
          "output_type": "stream",
          "text": [
            "Loss=1.0840559005737305 Batch_id=781 Accuracy=65.59: 100%|██████████| 782/782 [00:16<00:00, 47.84it/s]\n",
            "  0%|          | 0/782 [00:00<?, ?it/s]"
          ],
          "name": "stderr"
        },
        {
          "output_type": "stream",
          "text": [
            "\n",
            "Test set: Average loss: 0.0178, Accuracy: 6042/10000 (60.42%)\n",
            "\n",
            "EPOCH:6 | LR: [0.02800371151049913]\n"
          ],
          "name": "stdout"
        },
        {
          "output_type": "stream",
          "text": [
            "Loss=0.7282789945602417 Batch_id=781 Accuracy=67.88: 100%|██████████| 782/782 [00:15<00:00, 49.84it/s]\n",
            "  0%|          | 0/782 [00:00<?, ?it/s]"
          ],
          "name": "stderr"
        },
        {
          "output_type": "stream",
          "text": [
            "\n",
            "Test set: Average loss: 0.0151, Accuracy: 6574/10000 (65.74%)\n",
            "\n",
            "EPOCH:7 | LR: [0.037172075341360966]\n"
          ],
          "name": "stdout"
        },
        {
          "output_type": "stream",
          "text": [
            "Loss=1.204585313796997 Batch_id=781 Accuracy=69.53: 100%|██████████| 782/782 [00:15<00:00, 49.67it/s]\n",
            "  0%|          | 0/782 [00:00<?, ?it/s]"
          ],
          "name": "stderr"
        },
        {
          "output_type": "stream",
          "text": [
            "\n",
            "Test set: Average loss: 0.0174, Accuracy: 6150/10000 (61.50%)\n",
            "\n",
            "EPOCH:8 | LR: [0.04698860073660153]\n"
          ],
          "name": "stdout"
        },
        {
          "output_type": "stream",
          "text": [
            "Loss=0.7947765588760376 Batch_id=781 Accuracy=70.85: 100%|██████████| 782/782 [00:15<00:00, 59.01it/s]\n",
            "  0%|          | 0/782 [00:00<?, ?it/s]"
          ],
          "name": "stderr"
        },
        {
          "output_type": "stream",
          "text": [
            "\n",
            "Test set: Average loss: 0.0150, Accuracy: 6630/10000 (66.30%)\n",
            "\n",
            "EPOCH:9 | LR: [0.057024185539080036]\n"
          ],
          "name": "stdout"
        },
        {
          "output_type": "stream",
          "text": [
            "Loss=0.7529751658439636 Batch_id=781 Accuracy=72.30: 100%|██████████| 782/782 [00:15<00:00, 49.75it/s]\n",
            "  0%|          | 0/782 [00:00<?, ?it/s]"
          ],
          "name": "stderr"
        },
        {
          "output_type": "stream",
          "text": [
            "\n",
            "Test set: Average loss: 0.0117, Accuracy: 7474/10000 (74.74%)\n",
            "\n",
            "EPOCH:10 | LR: [0.06684015201777369]\n"
          ],
          "name": "stdout"
        },
        {
          "output_type": "stream",
          "text": [
            "Loss=0.8876668214797974 Batch_id=781 Accuracy=73.36: 100%|██████████| 782/782 [00:15<00:00, 50.07it/s]\n",
            "  0%|          | 0/782 [00:00<?, ?it/s]"
          ],
          "name": "stderr"
        },
        {
          "output_type": "stream",
          "text": [
            "\n",
            "Test set: Average loss: 0.0130, Accuracy: 7176/10000 (71.76%)\n",
            "\n",
            "EPOCH:11 | LR: [0.07600742244702699]\n"
          ],
          "name": "stdout"
        },
        {
          "output_type": "stream",
          "text": [
            "Loss=0.35079023241996765 Batch_id=781 Accuracy=73.89: 100%|██████████| 782/782 [00:16<00:00, 48.65it/s]\n",
            "  0%|          | 0/782 [00:00<?, ?it/s]"
          ],
          "name": "stderr"
        },
        {
          "output_type": "stream",
          "text": [
            "\n",
            "Test set: Average loss: 0.0177, Accuracy: 6221/10000 (62.21%)\n",
            "\n",
            "EPOCH:12 | LR: [0.08412527504821626]\n"
          ],
          "name": "stdout"
        },
        {
          "output_type": "stream",
          "text": [
            "Loss=1.4623212814331055 Batch_id=781 Accuracy=74.53: 100%|██████████| 782/782 [00:15<00:00, 49.05it/s]\n",
            "  0%|          | 0/782 [00:00<?, ?it/s]"
          ],
          "name": "stderr"
        },
        {
          "output_type": "stream",
          "text": [
            "\n",
            "Test set: Average loss: 0.0121, Accuracy: 7397/10000 (73.97%)\n",
            "\n",
            "EPOCH:13 | LR: [0.09083886042990517]\n"
          ],
          "name": "stdout"
        },
        {
          "output_type": "stream",
          "text": [
            "Loss=0.7455322742462158 Batch_id=781 Accuracy=75.27: 100%|██████████| 782/782 [00:15<00:00, 49.40it/s]\n",
            "  0%|          | 0/782 [00:00<?, ?it/s]"
          ],
          "name": "stderr"
        },
        {
          "output_type": "stream",
          "text": [
            "\n",
            "Test set: Average loss: 0.0123, Accuracy: 7268/10000 (72.68%)\n",
            "\n",
            "EPOCH:14 | LR: [0.09585471284393521]\n"
          ],
          "name": "stdout"
        },
        {
          "output_type": "stream",
          "text": [
            "Loss=1.2611768245697021 Batch_id=781 Accuracy=76.07: 100%|██████████| 782/782 [00:15<00:00, 49.45it/s]\n",
            "  0%|          | 0/782 [00:00<?, ?it/s]"
          ],
          "name": "stderr"
        },
        {
          "output_type": "stream",
          "text": [
            "\n",
            "Test set: Average loss: 0.0116, Accuracy: 7440/10000 (74.40%)\n",
            "\n",
            "EPOCH:15 | LR: [0.09895357822595038]\n"
          ],
          "name": "stdout"
        },
        {
          "output_type": "stream",
          "text": [
            "Loss=0.9793732762336731 Batch_id=781 Accuracy=76.50: 100%|██████████| 782/782 [00:15<00:00, 49.74it/s]\n",
            "  0%|          | 0/782 [00:00<?, ?it/s]"
          ],
          "name": "stderr"
        },
        {
          "output_type": "stream",
          "text": [
            "\n",
            "Test set: Average loss: 0.0109, Accuracy: 7623/10000 (76.23%)\n",
            "\n",
            "EPOCH:16 | LR: [0.09999999967062669]\n"
          ],
          "name": "stdout"
        },
        {
          "output_type": "stream",
          "text": [
            "Loss=0.3335006833076477 Batch_id=781 Accuracy=76.87: 100%|██████████| 782/782 [00:15<00:00, 49.21it/s]\n",
            "  0%|          | 0/782 [00:00<?, ?it/s]"
          ],
          "name": "stderr"
        },
        {
          "output_type": "stream",
          "text": [
            "\n",
            "Test set: Average loss: 0.0115, Accuracy: 7486/10000 (74.86%)\n",
            "\n",
            "EPOCH:17 | LR: [0.09979820072843186]\n"
          ],
          "name": "stdout"
        },
        {
          "output_type": "stream",
          "text": [
            "Loss=0.9009714126586914 Batch_id=781 Accuracy=77.45: 100%|██████████| 782/782 [00:16<00:00, 48.75it/s]\n",
            "  0%|          | 0/782 [00:00<?, ?it/s]"
          ],
          "name": "stderr"
        },
        {
          "output_type": "stream",
          "text": [
            "\n",
            "Test set: Average loss: 0.0108, Accuracy: 7614/10000 (76.14%)\n",
            "\n",
            "EPOCH:18 | LR: [0.09919545756512195]\n"
          ],
          "name": "stdout"
        },
        {
          "output_type": "stream",
          "text": [
            "Loss=0.7354784607887268 Batch_id=781 Accuracy=77.85: 100%|██████████| 782/782 [00:15<00:00, 49.51it/s]\n",
            "  0%|          | 0/782 [00:00<?, ?it/s]"
          ],
          "name": "stderr"
        },
        {
          "output_type": "stream",
          "text": [
            "\n",
            "Test set: Average loss: 0.0152, Accuracy: 6786/10000 (67.86%)\n",
            "\n",
            "EPOCH:19 | LR: [0.0981966231142407]\n"
          ],
          "name": "stdout"
        },
        {
          "output_type": "stream",
          "text": [
            "Loss=0.8312414884567261 Batch_id=781 Accuracy=77.98: 100%|██████████| 782/782 [00:15<00:00, 49.11it/s]\n",
            "  0%|          | 0/782 [00:00<?, ?it/s]"
          ],
          "name": "stderr"
        },
        {
          "output_type": "stream",
          "text": [
            "\n",
            "Test set: Average loss: 0.0099, Accuracy: 7830/10000 (78.30%)\n",
            "\n",
            "EPOCH:20 | LR: [0.09680973940348143]\n"
          ],
          "name": "stdout"
        },
        {
          "output_type": "stream",
          "text": [
            "Loss=0.8057359457015991 Batch_id=781 Accuracy=78.53: 100%|██████████| 782/782 [00:15<00:00, 49.71it/s]\n",
            "  0%|          | 0/782 [00:00<?, ?it/s]"
          ],
          "name": "stderr"
        },
        {
          "output_type": "stream",
          "text": [
            "\n",
            "Test set: Average loss: 0.0110, Accuracy: 7620/10000 (76.20%)\n",
            "\n",
            "EPOCH:21 | LR: [0.0950459728050088]\n"
          ],
          "name": "stdout"
        },
        {
          "output_type": "stream",
          "text": [
            "Loss=0.5894665122032166 Batch_id=781 Accuracy=78.97: 100%|██████████| 782/782 [00:15<00:00, 49.27it/s]\n",
            "  0%|          | 0/782 [00:00<?, ?it/s]"
          ],
          "name": "stderr"
        },
        {
          "output_type": "stream",
          "text": [
            "\n",
            "Test set: Average loss: 0.0103, Accuracy: 7727/10000 (77.27%)\n",
            "\n",
            "EPOCH:22 | LR: [0.09291952413039573]\n"
          ],
          "name": "stdout"
        },
        {
          "output_type": "stream",
          "text": [
            "Loss=0.40066587924957275 Batch_id=781 Accuracy=79.31: 100%|██████████| 782/782 [00:15<00:00, 48.90it/s]\n",
            "  0%|          | 0/782 [00:00<?, ?it/s]"
          ],
          "name": "stderr"
        },
        {
          "output_type": "stream",
          "text": [
            "\n",
            "Test set: Average loss: 0.0120, Accuracy: 7486/10000 (74.86%)\n",
            "\n",
            "EPOCH:23 | LR: [0.09044751429403862]\n"
          ],
          "name": "stdout"
        },
        {
          "output_type": "stream",
          "text": [
            "Loss=0.942512571811676 Batch_id=781 Accuracy=79.35: 100%|██████████| 782/782 [00:15<00:00, 49.68it/s]\n",
            "  0%|          | 0/782 [00:00<?, ?it/s]"
          ],
          "name": "stderr"
        },
        {
          "output_type": "stream",
          "text": [
            "\n",
            "Test set: Average loss: 0.0110, Accuracy: 7622/10000 (76.22%)\n",
            "\n",
            "EPOCH:24 | LR: [0.08764984646562157]\n"
          ],
          "name": "stdout"
        },
        {
          "output_type": "stream",
          "text": [
            "Loss=1.104759931564331 Batch_id=781 Accuracy=79.65: 100%|██████████| 782/782 [00:15<00:00, 49.44it/s]\n",
            "  0%|          | 0/782 [00:00<?, ?it/s]"
          ],
          "name": "stderr"
        },
        {
          "output_type": "stream",
          "text": [
            "\n",
            "Test set: Average loss: 0.0104, Accuracy: 7712/10000 (77.12%)\n",
            "\n",
            "EPOCH:25 | LR: [0.08454904582149697]\n"
          ],
          "name": "stdout"
        },
        {
          "output_type": "stream",
          "text": [
            "Loss=0.8532454967498779 Batch_id=781 Accuracy=79.96: 100%|██████████| 782/782 [00:15<00:00, 49.80it/s]\n",
            "  0%|          | 0/782 [00:00<?, ?it/s]"
          ],
          "name": "stderr"
        },
        {
          "output_type": "stream",
          "text": [
            "\n",
            "Test set: Average loss: 0.0099, Accuracy: 7860/10000 (78.60%)\n",
            "\n",
            "EPOCH:26 | LR: [0.08117007818521006]\n"
          ],
          "name": "stdout"
        },
        {
          "output_type": "stream",
          "text": [
            "Loss=1.0425883531570435 Batch_id=781 Accuracy=80.10: 100%|██████████| 782/782 [00:15<00:00, 49.29it/s]\n",
            "  0%|          | 0/782 [00:00<?, ?it/s]"
          ],
          "name": "stderr"
        },
        {
          "output_type": "stream",
          "text": [
            "\n",
            "Test set: Average loss: 0.0096, Accuracy: 7952/10000 (79.52%)\n",
            "\n",
            "EPOCH:27 | LR: [0.07754014901736739]\n"
          ],
          "name": "stdout"
        },
        {
          "output_type": "stream",
          "text": [
            "Loss=0.5377514362335205 Batch_id=781 Accuracy=80.25: 100%|██████████| 782/782 [00:15<00:00, 49.88it/s]\n",
            "  0%|          | 0/782 [00:00<?, ?it/s]"
          ],
          "name": "stderr"
        },
        {
          "output_type": "stream",
          "text": [
            "\n",
            "Test set: Average loss: 0.0102, Accuracy: 7817/10000 (78.17%)\n",
            "\n",
            "EPOCH:28 | LR: [0.07368848437326468]\n"
          ],
          "name": "stdout"
        },
        {
          "output_type": "stream",
          "text": [
            "Loss=0.8882829546928406 Batch_id=781 Accuracy=80.88: 100%|██████████| 782/782 [00:15<00:00, 49.83it/s]\n",
            "  0%|          | 0/782 [00:00<?, ?it/s]"
          ],
          "name": "stderr"
        },
        {
          "output_type": "stream",
          "text": [
            "\n",
            "Test set: Average loss: 0.0106, Accuracy: 7728/10000 (77.28%)\n",
            "\n",
            "EPOCH:29 | LR: [0.06964609559187408]\n"
          ],
          "name": "stdout"
        },
        {
          "output_type": "stream",
          "text": [
            "Loss=0.6344836354255676 Batch_id=781 Accuracy=81.00: 100%|██████████| 782/782 [00:16<00:00, 47.83it/s]\n",
            "  0%|          | 0/782 [00:00<?, ?it/s]"
          ],
          "name": "stderr"
        },
        {
          "output_type": "stream",
          "text": [
            "\n",
            "Test set: Average loss: 0.0110, Accuracy: 7658/10000 (76.58%)\n",
            "\n",
            "EPOCH:30 | LR: [0.06544552961077725]\n"
          ],
          "name": "stdout"
        },
        {
          "output_type": "stream",
          "text": [
            "Loss=0.8427039384841919 Batch_id=781 Accuracy=80.99: 100%|██████████| 782/782 [00:15<00:00, 49.71it/s]\n",
            "  0%|          | 0/782 [00:00<?, ?it/s]"
          ],
          "name": "stderr"
        },
        {
          "output_type": "stream",
          "text": [
            "\n",
            "Test set: Average loss: 0.0103, Accuracy: 7777/10000 (77.77%)\n",
            "\n",
            "EPOCH:31 | LR: [0.061120606917361216]\n"
          ],
          "name": "stdout"
        },
        {
          "output_type": "stream",
          "text": [
            "Loss=0.5651620626449585 Batch_id=781 Accuracy=81.23: 100%|██████████| 782/782 [00:15<00:00, 57.50it/s]\n",
            "  0%|          | 0/782 [00:00<?, ?it/s]"
          ],
          "name": "stderr"
        },
        {
          "output_type": "stream",
          "text": [
            "\n",
            "Test set: Average loss: 0.0098, Accuracy: 7865/10000 (78.65%)\n",
            "\n",
            "EPOCH:32 | LR: [0.05670614924613995]\n"
          ],
          "name": "stdout"
        },
        {
          "output_type": "stream",
          "text": [
            "Loss=0.4273436367511749 Batch_id=781 Accuracy=81.87: 100%|██████████| 782/782 [00:15<00:00, 49.69it/s]\n",
            "  0%|          | 0/782 [00:00<?, ?it/s]"
          ],
          "name": "stderr"
        },
        {
          "output_type": "stream",
          "text": [
            "\n",
            "Test set: Average loss: 0.0094, Accuracy: 8001/10000 (80.01%)\n",
            "\n",
            "EPOCH:33 | LR: [0.05223769921462307]\n"
          ],
          "name": "stdout"
        },
        {
          "output_type": "stream",
          "text": [
            "Loss=0.5543878674507141 Batch_id=781 Accuracy=81.72: 100%|██████████| 782/782 [00:15<00:00, 49.82it/s]\n",
            "  0%|          | 0/782 [00:00<?, ?it/s]"
          ],
          "name": "stderr"
        },
        {
          "output_type": "stream",
          "text": [
            "\n",
            "Test set: Average loss: 0.0096, Accuracy: 7966/10000 (79.66%)\n",
            "\n",
            "EPOCH:34 | LR: [0.04775123415505826]\n"
          ],
          "name": "stdout"
        },
        {
          "output_type": "stream",
          "text": [
            "Loss=0.603618323802948 Batch_id=781 Accuracy=82.13: 100%|██████████| 782/782 [00:15<00:00, 49.46it/s]\n",
            "  0%|          | 0/782 [00:00<?, ?it/s]"
          ],
          "name": "stderr"
        },
        {
          "output_type": "stream",
          "text": [
            "\n",
            "Test set: Average loss: 0.0099, Accuracy: 7859/10000 (78.59%)\n",
            "\n",
            "EPOCH:35 | LR: [0.04328287644610643]\n"
          ],
          "name": "stdout"
        },
        {
          "output_type": "stream",
          "text": [
            "Loss=0.5017052888870239 Batch_id=781 Accuracy=82.32: 100%|██████████| 782/782 [00:15<00:00, 49.47it/s]\n",
            "  0%|          | 0/782 [00:00<?, ?it/s]"
          ],
          "name": "stderr"
        },
        {
          "output_type": "stream",
          "text": [
            "\n",
            "Test set: Average loss: 0.0091, Accuracy: 7979/10000 (79.79%)\n",
            "\n",
            "EPOCH:36 | LR: [0.03886860267668826]\n"
          ],
          "name": "stdout"
        },
        {
          "output_type": "stream",
          "text": [
            "Loss=0.3242551386356354 Batch_id=781 Accuracy=82.43: 100%|██████████| 782/782 [00:15<00:00, 49.51it/s]\n",
            "  0%|          | 0/782 [00:00<?, ?it/s]"
          ],
          "name": "stderr"
        },
        {
          "output_type": "stream",
          "text": [
            "\n",
            "Test set: Average loss: 0.0091, Accuracy: 8033/10000 (80.33%)\n",
            "\n",
            "EPOCH:37 | LR: [0.034543953983644175]\n"
          ],
          "name": "stdout"
        },
        {
          "output_type": "stream",
          "text": [
            "Loss=0.5150787830352783 Batch_id=781 Accuracy=83.00: 100%|██████████| 782/782 [00:15<00:00, 48.94it/s]\n",
            "  0%|          | 0/782 [00:00<?, ?it/s]"
          ],
          "name": "stderr"
        },
        {
          "output_type": "stream",
          "text": [
            "\n",
            "Test set: Average loss: 0.0089, Accuracy: 8031/10000 (80.31%)\n",
            "\n",
            "EPOCH:38 | LR: [0.0303437498953983]\n"
          ],
          "name": "stdout"
        },
        {
          "output_type": "stream",
          "text": [
            "Loss=0.30169224739074707 Batch_id=781 Accuracy=83.25: 100%|██████████| 782/782 [00:15<00:00, 48.95it/s]\n",
            "  0%|          | 0/782 [00:00<?, ?it/s]"
          ],
          "name": "stderr"
        },
        {
          "output_type": "stream",
          "text": [
            "\n",
            "Test set: Average loss: 0.0093, Accuracy: 7955/10000 (79.55%)\n",
            "\n",
            "EPOCH:39 | LR: [0.026301807985589176]\n"
          ],
          "name": "stdout"
        },
        {
          "output_type": "stream",
          "text": [
            "Loss=0.1543918401002884 Batch_id=781 Accuracy=83.26: 100%|██████████| 782/782 [00:16<00:00, 48.72it/s]\n",
            "  0%|          | 0/782 [00:00<?, ?it/s]"
          ],
          "name": "stderr"
        },
        {
          "output_type": "stream",
          "text": [
            "\n",
            "Test set: Average loss: 0.0089, Accuracy: 8080/10000 (80.80%)\n",
            "\n",
            "EPOCH:40 | LR: [0.022450671593851262]\n"
          ],
          "name": "stdout"
        },
        {
          "output_type": "stream",
          "text": [
            "Loss=1.4369921684265137 Batch_id=781 Accuracy=83.72: 100%|██████████| 782/782 [00:15<00:00, 57.42it/s]\n",
            "  0%|          | 0/782 [00:00<?, ?it/s]"
          ],
          "name": "stderr"
        },
        {
          "output_type": "stream",
          "text": [
            "\n",
            "Test set: Average loss: 0.0088, Accuracy: 8126/10000 (81.26%)\n",
            "\n",
            "EPOCH:41 | LR: [0.01882134780597926]\n"
          ],
          "name": "stdout"
        },
        {
          "output_type": "stream",
          "text": [
            "Loss=0.4385721981525421 Batch_id=781 Accuracy=84.08: 100%|██████████| 782/782 [00:15<00:00, 49.04it/s]\n",
            "  0%|          | 0/782 [00:00<?, ?it/s]"
          ],
          "name": "stderr"
        },
        {
          "output_type": "stream",
          "text": [
            "\n",
            "Test set: Average loss: 0.0088, Accuracy: 8123/10000 (81.23%)\n",
            "\n",
            "EPOCH:42 | LR: [0.01544305780310531]\n"
          ],
          "name": "stdout"
        },
        {
          "output_type": "stream",
          "text": [
            "Loss=0.5468284487724304 Batch_id=781 Accuracy=84.38: 100%|██████████| 782/782 [00:15<00:00, 54.61it/s]\n",
            "  0%|          | 0/782 [00:00<?, ?it/s]"
          ],
          "name": "stderr"
        },
        {
          "output_type": "stream",
          "text": [
            "\n",
            "Test set: Average loss: 0.0093, Accuracy: 8016/10000 (80.16%)\n",
            "\n",
            "EPOCH:43 | LR: [0.012343001589930193]\n"
          ],
          "name": "stdout"
        },
        {
          "output_type": "stream",
          "text": [
            "Loss=0.42865055799484253 Batch_id=781 Accuracy=84.57: 100%|██████████| 782/782 [00:16<00:00, 48.45it/s]\n",
            "  0%|          | 0/782 [00:00<?, ?it/s]"
          ],
          "name": "stderr"
        },
        {
          "output_type": "stream",
          "text": [
            "\n",
            "Test set: Average loss: 0.0089, Accuracy: 8113/10000 (81.13%)\n",
            "\n",
            "EPOCH:44 | LR: [0.009546138996278859]\n"
          ],
          "name": "stdout"
        },
        {
          "output_type": "stream",
          "text": [
            "Loss=0.08644184470176697 Batch_id=781 Accuracy=84.73: 100%|██████████| 782/782 [00:16<00:00, 55.83it/s]\n",
            "  0%|          | 0/782 [00:00<?, ?it/s]"
          ],
          "name": "stderr"
        },
        {
          "output_type": "stream",
          "text": [
            "\n",
            "Test set: Average loss: 0.0088, Accuracy: 8080/10000 (80.80%)\n",
            "\n",
            "EPOCH:45 | LR: [0.007074988715226824]\n"
          ],
          "name": "stdout"
        },
        {
          "output_type": "stream",
          "text": [
            "Loss=0.191256582736969 Batch_id=781 Accuracy=85.19: 100%|██████████| 782/782 [00:15<00:00, 58.97it/s]\n",
            "  0%|          | 0/782 [00:00<?, ?it/s]"
          ],
          "name": "stderr"
        },
        {
          "output_type": "stream",
          "text": [
            "\n",
            "Test set: Average loss: 0.0088, Accuracy: 8120/10000 (81.20%)\n",
            "\n",
            "EPOCH:46 | LR: [0.004949446995824277]\n"
          ],
          "name": "stdout"
        },
        {
          "output_type": "stream",
          "text": [
            "Loss=0.7498475313186646 Batch_id=781 Accuracy=85.62: 100%|██████████| 782/782 [00:16<00:00, 47.99it/s]\n",
            "  0%|          | 0/782 [00:00<?, ?it/s]"
          ],
          "name": "stderr"
        },
        {
          "output_type": "stream",
          "text": [
            "\n",
            "Test set: Average loss: 0.0090, Accuracy: 8099/10000 (80.99%)\n",
            "\n",
            "EPOCH:47 | LR: [0.0031866274501975546]\n"
          ],
          "name": "stdout"
        },
        {
          "output_type": "stream",
          "text": [
            "Loss=0.304451048374176 Batch_id=781 Accuracy=85.69: 100%|██████████| 782/782 [00:15<00:00, 49.97it/s]\n",
            "  0%|          | 0/782 [00:00<?, ?it/s]"
          ],
          "name": "stderr"
        },
        {
          "output_type": "stream",
          "text": [
            "\n",
            "Test set: Average loss: 0.0086, Accuracy: 8148/10000 (81.48%)\n",
            "\n",
            "EPOCH:48 | LR: [0.0018007232648069435]\n"
          ],
          "name": "stdout"
        },
        {
          "output_type": "stream",
          "text": [
            "Loss=0.7128034234046936 Batch_id=781 Accuracy=85.86: 100%|██████████| 782/782 [00:15<00:00, 57.03it/s]\n",
            "  0%|          | 0/782 [00:00<?, ?it/s]"
          ],
          "name": "stderr"
        },
        {
          "output_type": "stream",
          "text": [
            "\n",
            "Test set: Average loss: 0.0086, Accuracy: 8151/10000 (81.51%)\n",
            "\n",
            "EPOCH:49 | LR: [0.000802892925254737]\n"
          ],
          "name": "stdout"
        },
        {
          "output_type": "stream",
          "text": [
            "Loss=0.5285534858703613 Batch_id=781 Accuracy=85.92: 100%|██████████| 782/782 [00:16<00:00, 56.31it/s]\n",
            "  0%|          | 0/782 [00:00<?, ?it/s]"
          ],
          "name": "stderr"
        },
        {
          "output_type": "stream",
          "text": [
            "\n",
            "Test set: Average loss: 0.0086, Accuracy: 8156/10000 (81.56%)\n",
            "\n",
            "EPOCH:50 | LR: [0.00020117037472027025]\n"
          ],
          "name": "stdout"
        },
        {
          "output_type": "stream",
          "text": [
            "Loss=0.3450605869293213 Batch_id=781 Accuracy=85.94: 100%|██████████| 782/782 [00:16<00:00, 48.47it/s]\n"
          ],
          "name": "stderr"
        },
        {
          "output_type": "stream",
          "text": [
            "\n",
            "Test set: Average loss: 0.0086, Accuracy: 8158/10000 (81.58%)\n",
            "\n"
          ],
          "name": "stdout"
        }
      ]
    },
    {
      "cell_type": "code",
      "metadata": {
        "id": "nCyHFg3iCmQS",
        "colab_type": "code",
        "colab": {
          "base_uri": "https://localhost:8080/",
          "height": 404
        },
        "outputId": "afb372d9-4aff-4769-a467-c32dec9b6022"
      },
      "source": [
        "cifar_model_train.plot_loss_graph()"
      ],
      "execution_count": 35,
      "outputs": [
        {
          "output_type": "display_data",
          "data": {
            "image/png": "[encoded data removed]",
            "text/plain": [
              "<Figure size 720x432 with 1 Axes>"
            ]
          },
          "metadata": {
            "tags": []
          }
        }
      ]
    },
    {
      "cell_type": "code",
      "metadata": {
        "id": "ldK4JTBYNx-g",
        "colab_type": "code",
        "colab": {
          "base_uri": "https://localhost:8080/",
          "height": 404
        },
        "outputId": "2caeff31-96e4-49d6-c0f4-369f9b834bd6"
      },
      "source": [
        "cifar_model_train.plot_acc_graph()"
      ],
      "execution_count": 36,
      "outputs": [
        {
          "output_type": "display_data",
          "data": {
            "image/png": "[encoded data removed]",
            "text/plain": [
              "<Figure size 720x432 with 1 Axes>"
            ]
          },
          "metadata": {
            "tags": []
          }
        }
      ]
    },
    {
      "cell_type": "code",
      "metadata": {
        "id": "_fs3diNUI6C8",
        "colab_type": "code",
        "colab": {}
      },
      "source": [
        "%matplotlib inline"
      ],
      "execution_count": 0,
      "outputs": []
    },
    {
      "cell_type": "code",
      "metadata": {
        "id": "RIWqjh8tNfSk",
        "colab_type": "code",
        "colab": {}
      },
      "source": [
        ""
      ],
      "execution_count": 0,
      "outputs": []
    }
  ]
}