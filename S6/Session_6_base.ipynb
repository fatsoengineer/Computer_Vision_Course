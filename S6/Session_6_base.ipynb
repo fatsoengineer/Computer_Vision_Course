{
  "nbformat": 4,
  "nbformat_minor": 0,
  "metadata": {
    "colab": {
      "name": "Session_6 base.ipynb",
      "provenance": [],
      "collapsed_sections": [],
      "toc_visible": true
    },
    "kernelspec": {
      "name": "python3",
      "display_name": "Python 3"
    },
    "accelerator": "GPU"
  },
  "cells": [
    {
      "cell_type": "markdown",
      "metadata": {
        "id": "Jul5sID-Of8N",
        "colab_type": "text"
      },
      "source": [
        "Link to step 6 [Notebook_6](https://github.com/fatsoengineer/Computer_Vision_Course/blob/master/S5/6th_Model_Layer_image_aug.ipynb)\n",
        "## Step 7\n",
        "\n",
        " **Target:**\n",
        "\n",
        "> Adding LR scheduler\n",
        "\n",
        "\n",
        "**Results**\n",
        "\n",
        "\n",
        "> \n",
        "*   Total params: 6,376\n",
        "*   Best Test Accuracy: \n",
        "```\n",
        "EPOCH:14 | LR: [0.008679444396382234]\n",
        "Loss=0.018181532621383667 Batch_id=937 Accuracy=99.04: 100%|██████████| 938/938 [00:16<00:00, 55.82it/s]\n",
        "  0%|          | 0/938 [00:00<?, ?it/s]\n",
        "Test set: Average loss: 0.0178, Accuracy: 9947/10000 (99.47%)\n",
        "```\n",
        "\n",
        "\n",
        "**Analysis**\n",
        "\n",
        "> * Tried Step LR or ReduceLrOnPlateau schedulers to check the results, but got the best result with OneCycleLR.\n",
        "* Ran multiple times to confirm that the results are not fluke or not fluctuating from each training at large \n"
      ]
    },
    {
      "cell_type": "code",
      "metadata": {
        "id": "1B0a0dzexkD9",
        "colab_type": "code",
        "colab": {}
      },
      "source": [
        "from google.colab import drive\n",
        "drive.mount('/content/drive')"
      ],
      "execution_count": 0,
      "outputs": []
    },
    {
      "cell_type": "code",
      "metadata": {
        "id": "WL8Asgh10AOE",
        "colab_type": "code",
        "colab": {}
      },
      "source": [
        "cd /content/drive/My Drive/Backup/EVP/Session_6"
      ],
      "execution_count": 0,
      "outputs": []
    },
    {
      "cell_type": "code",
      "metadata": {
        "id": "XvKxBpwx0H_s",
        "colab_type": "code",
        "colab": {}
      },
      "source": [
        ""
      ],
      "execution_count": 0,
      "outputs": []
    },
    {
      "cell_type": "markdown",
      "metadata": {
        "id": "aO-7t1Y7-hV4",
        "colab_type": "text"
      },
      "source": [
        "# Import Libraries"
      ]
    },
    {
      "cell_type": "code",
      "metadata": {
        "id": "8kH16rnZ7wt_",
        "colab_type": "code",
        "colab": {}
      },
      "source": [
        "from __future__ import print_function\n",
        "import torch\n",
        "import torch.nn as nn\n",
        "import torch.nn.functional as F\n",
        "import torch.optim as optim\n",
        "from torchvision import datasets, transforms\n",
        "\n",
        "!pip install torchsummary\n",
        "from torchsummary import summary\n",
        "\n",
        "!!pip install mlcrate\n",
        "import mlcrate as mlc"
      ],
      "execution_count": 0,
      "outputs": []
    },
    {
      "cell_type": "markdown",
      "metadata": {
        "id": "ky3f_Odl-7um",
        "colab_type": "text"
      },
      "source": [
        "## Data Transformations\n",
        "\n",
        "We first start with defining our data transformations. We need to think what our data is and how can we augment it to correct represent images which it might not see otherwise. \n"
      ]
    },
    {
      "cell_type": "code",
      "metadata": {
        "id": "YtssFUKb-jqx",
        "colab_type": "code",
        "colab": {}
      },
      "source": [
        "# Train Phase transformations\n",
        "train_transforms = transforms.Compose([\n",
        "                                      #  transforms.Resize((28, 28)),\n",
        "                                      #  transforms.ColorJitter(brightness=0.10, contrast=0.1, saturation=0.10, hue=0.1),\n",
        "                                       transforms.RandomRotation((-5.0, 5.0), fill=(1,)),\n",
        "                                       transforms.ToTensor(),\n",
        "                                       transforms.Normalize((0.1307,), (0.3081,)), # The mean and std have to be sequences (e.g., tuples), therefore you should add a comma after the values. \n",
        "                                       # Note the difference between (0.1307) and (0.1307,)\n",
        "                                      #  transforms.RandomErasing()\n",
        "                                       ])\n",
        "\n",
        "# Test Phase transformations\n",
        "test_transforms = transforms.Compose([\n",
        "                                      #  transforms.Resize((28, 28)),\n",
        "                                      #  transforms.ColorJitter(brightness=0.10, contrast=0.1, saturation=0.10, hue=0.1),\n",
        "                                       transforms.ToTensor(),\n",
        "                                       transforms.Normalize((0.1307,), (0.3081,))\n",
        "                                       ])\n"
      ],
      "execution_count": 0,
      "outputs": []
    },
    {
      "cell_type": "markdown",
      "metadata": {
        "id": "oQciFYo2B1mO",
        "colab_type": "text"
      },
      "source": [
        "# Dataset and Creating Train/Test Split"
      ]
    },
    {
      "cell_type": "code",
      "metadata": {
        "id": "_4A84rlfDA23",
        "colab_type": "code",
        "colab": {}
      },
      "source": [
        "train = datasets.MNIST('./data', train=True, download=True, transform=train_transforms)\n",
        "test = datasets.MNIST('./data', train=False, download=True, transform=test_transforms)"
      ],
      "execution_count": 0,
      "outputs": []
    },
    {
      "cell_type": "markdown",
      "metadata": {
        "id": "qgldp_3-Dn0c",
        "colab_type": "text"
      },
      "source": [
        "# Dataloader Arguments & Test/Train Dataloaders\n"
      ]
    },
    {
      "cell_type": "code",
      "metadata": {
        "id": "C8OLDR79DrHG",
        "colab_type": "code",
        "outputId": "9f92c7a1-8495-4bc7-ed04-33bb559c2714",
        "colab": {
          "base_uri": "https://localhost:8080/",
          "height": 34
        }
      },
      "source": [
        "SEED = 1\n",
        "\n",
        "# CUDA?\n",
        "cuda = torch.cuda.is_available()\n",
        "print(\"CUDA Available?\", cuda)\n",
        "\n",
        "# For reproducibility\n",
        "torch.manual_seed(SEED)\n",
        "\n",
        "if cuda:\n",
        "    torch.cuda.manual_seed(SEED)\n",
        "\n",
        "# dataloader arguments - something you'll fetch these from cmdprmt\n",
        "dataloader_args = dict(shuffle=True, batch_size=64, num_workers=4, pin_memory=True) if cuda else dict(shuffle=True, batch_size=64)\n",
        "\n",
        "# train dataloader\n",
        "train_loader = torch.utils.data.DataLoader(train, **dataloader_args)\n",
        "\n",
        "# test dataloader\n",
        "test_loader = torch.utils.data.DataLoader(test, **dataloader_args)"
      ],
      "execution_count": 6,
      "outputs": [
        {
          "output_type": "stream",
          "text": [
            "CUDA Available? True\n"
          ],
          "name": "stdout"
        }
      ]
    },
    {
      "cell_type": "markdown",
      "metadata": {
        "id": "-TFjoFekE_va",
        "colab_type": "text"
      },
      "source": [
        "# Data Statistics\n",
        "\n",
        "It is important to know your data very well. Let's check some of the statistics around our data and how it actually looks like"
      ]
    },
    {
      "cell_type": "code",
      "metadata": {
        "id": "hWZPPo3yEHDW",
        "colab_type": "code",
        "colab": {}
      },
      "source": [
        "# # We'd need to convert it into Numpy! Remember above we have converted it into tensors already\n",
        "# train_data = train.train_data\n",
        "# train_data = train.transform(train_data.numpy())\n",
        "\n",
        "# print('[Train]')\n",
        "# print(' - Numpy Shape:', train.train_data.cpu().numpy().shape)\n",
        "# print(' - Tensor Shape:', train.train_data.size())\n",
        "# print(' - min:', torch.min(train_data))\n",
        "# print(' - max:', torch.max(train_data))\n",
        "# print(' - mean:', torch.mean(train_data))\n",
        "# print(' - std:', torch.std(train_data))\n",
        "# print(' - var:', torch.var(train_data))\n",
        "\n",
        "# dataiter = iter(train_loader)\n",
        "# images, labels = dataiter.next()\n",
        "\n",
        "# print(images.shape)\n",
        "# print(labels.shape)\n",
        "\n",
        "# Let's visualize some of the images\n",
        "%matplotlib inline\n",
        "import matplotlib.pyplot as plt\n",
        "\n",
        "# plt.imshow(images[0].numpy().squeeze(), cmap='gray_r')\n"
      ],
      "execution_count": 0,
      "outputs": []
    },
    {
      "cell_type": "markdown",
      "metadata": {
        "id": "7l9lNaWYKuik",
        "colab_type": "text"
      },
      "source": [
        "## MORE\n",
        "\n",
        "It is important that we view as many images as possible. This is required to get some idea on image augmentation later on"
      ]
    },
    {
      "cell_type": "code",
      "metadata": {
        "id": "hXXAg8hbK16u",
        "colab_type": "code",
        "colab": {}
      },
      "source": [
        "# figure = plt.figure()\n",
        "# num_of_images = 60\n",
        "# for index in range(1, num_of_images + 1):\n",
        "#     plt.subplot(6, 10, index)\n",
        "#     plt.axis('off')\n",
        "#     plt.imshow(images[index].numpy().squeeze(), cmap='gray_r')"
      ],
      "execution_count": 0,
      "outputs": []
    },
    {
      "cell_type": "markdown",
      "metadata": {
        "id": "ubQL3H6RJL3h",
        "colab_type": "text"
      },
      "source": [
        "\n",
        "# The model\n",
        "Let's start with the model we first saw"
      ]
    },
    {
      "cell_type": "code",
      "metadata": {
        "id": "IiBMRXfyJ1Gk",
        "colab_type": "code",
        "colab": {}
      },
      "source": [
        "dropout_value =.10\n",
        "\n",
        "class Net(nn.Module):\n",
        "    def __init__(self):\n",
        "        super(Net, self).__init__()\n",
        "\n",
        "        self.conv1 = nn.Sequential(\n",
        "            nn.Conv2d(in_channels=1, out_channels=8, kernel_size=(3, 3), padding=0, bias=False), #26\n",
        "            nn.BatchNorm2d(8),\n",
        "            nn.ReLU(),\n",
        "            nn.Dropout(dropout_value),\n",
        "\n",
        "            nn.Conv2d(in_channels=8, out_channels=12, kernel_size=(3, 3), padding=0, bias=False), #24\n",
        "            nn.BatchNorm2d(12),\n",
        "            nn.ReLU(),\n",
        "            nn.Dropout(dropout_value),\n",
        "\n",
        "            # nn.Conv2d(in_channels=12, out_channels=12, kernel_size=(3, 3), padding=0, bias=False), #22\n",
        "            # nn.BatchNorm2d(12),\n",
        "            # nn.ReLU(),\n",
        "            # nn.Dropout(dropout_value),\n",
        "\n",
        "            nn.MaxPool2d(2,2), # 11\n",
        "        )\n",
        "\n",
        "        self.conv2 = nn.Sequential(\n",
        "            nn.Conv2d(in_channels=12, out_channels=12, kernel_size=(3, 3), padding=0, bias=False), #9\n",
        "            nn.BatchNorm2d(12),\n",
        "            nn.ReLU(),\n",
        "            nn.Dropout(dropout_value),\n",
        "\n",
        "            nn.Conv2d(in_channels=12, out_channels=12, kernel_size=(3, 3), padding=0, bias=False), #7\n",
        "            nn.BatchNorm2d(12),\n",
        "            nn.ReLU(),\n",
        "            nn.Dropout(dropout_value)\n",
        "        )\n",
        "\n",
        "        self.conv3 = nn.Sequential(\n",
        "            nn.Conv2d(in_channels=12, out_channels=12, kernel_size=(3, 3), padding=0, bias=False),\n",
        "            nn.BatchNorm2d(12),\n",
        "            nn.ReLU(),\n",
        "            nn.Dropout(dropout_value),\n",
        "\n",
        "            nn.Conv2d(in_channels=12, out_channels=12, kernel_size=(3, 3), padding=0, bias=False),\n",
        "            nn.BatchNorm2d(12),\n",
        "            nn.ReLU(),\n",
        "            nn.Dropout(dropout_value),\n",
        "        )\n",
        "\n",
        "        self.gap = nn.Sequential(\n",
        "            nn.AvgPool2d(kernel_size=4)\n",
        "        ) # output_size = 1\n",
        "\n",
        "        self.reducer = nn.Conv2d(12,10,1,bias=False)\n",
        "\n",
        "    def forward(self, x):\n",
        "      x= self.conv1(x)\n",
        "      x= self.conv2(x)\n",
        "      x= self.conv3(x)\n",
        "      x =self.gap(x)\n",
        "      x= self.reducer(x)\n",
        "      x = x.view(-1, 10)\n",
        "      return F.log_softmax(x)"
      ],
      "execution_count": 0,
      "outputs": []
    },
    {
      "cell_type": "markdown",
      "metadata": {
        "id": "xEyiPusCJ5WR",
        "colab_type": "text"
      },
      "source": [
        "Batch Norm after Relu\n"
      ]
    },
    {
      "cell_type": "markdown",
      "metadata": {
        "id": "M3-vp8X9LCWo",
        "colab_type": "text"
      },
      "source": [
        "# Model Params\n",
        "Can't emphasize on how important viewing Model Summary is. \n",
        "Unfortunately, there is no in-built model visualizer, so we have to take external help"
      ]
    },
    {
      "cell_type": "code",
      "metadata": {
        "id": "5skB97zIJQQe",
        "colab_type": "code",
        "outputId": "2f359e7b-0f0e-43a8-80c5-66777145fd3d",
        "colab": {
          "base_uri": "https://localhost:8080/",
          "height": 751
        }
      },
      "source": [
        "use_cuda = torch.cuda.is_available()\n",
        "device = torch.device(\"cuda\" if use_cuda else \"cpu\")\n",
        "print(device)\n",
        "model = Net().to(device)\n",
        "summary(model, input_size=(1, 28, 28))"
      ],
      "execution_count": 10,
      "outputs": [
        {
          "output_type": "stream",
          "text": [
            "cuda\n",
            "----------------------------------------------------------------\n",
            "        Layer (type)               Output Shape         Param #\n",
            "================================================================\n",
            "            Conv2d-1            [-1, 8, 26, 26]              72\n",
            "       BatchNorm2d-2            [-1, 8, 26, 26]              16\n",
            "              ReLU-3            [-1, 8, 26, 26]               0\n",
            "           Dropout-4            [-1, 8, 26, 26]               0\n",
            "            Conv2d-5           [-1, 12, 24, 24]             864\n",
            "       BatchNorm2d-6           [-1, 12, 24, 24]              24\n",
            "              ReLU-7           [-1, 12, 24, 24]               0\n",
            "           Dropout-8           [-1, 12, 24, 24]               0\n",
            "         MaxPool2d-9           [-1, 12, 12, 12]               0\n",
            "           Conv2d-10           [-1, 12, 10, 10]           1,296\n",
            "      BatchNorm2d-11           [-1, 12, 10, 10]              24\n",
            "             ReLU-12           [-1, 12, 10, 10]               0\n",
            "          Dropout-13           [-1, 12, 10, 10]               0\n",
            "           Conv2d-14             [-1, 12, 8, 8]           1,296\n",
            "      BatchNorm2d-15             [-1, 12, 8, 8]              24\n",
            "             ReLU-16             [-1, 12, 8, 8]               0\n",
            "          Dropout-17             [-1, 12, 8, 8]               0\n",
            "           Conv2d-18             [-1, 12, 6, 6]           1,296\n",
            "      BatchNorm2d-19             [-1, 12, 6, 6]              24\n",
            "             ReLU-20             [-1, 12, 6, 6]               0\n",
            "          Dropout-21             [-1, 12, 6, 6]               0\n",
            "           Conv2d-22             [-1, 12, 4, 4]           1,296\n",
            "      BatchNorm2d-23             [-1, 12, 4, 4]              24\n",
            "             ReLU-24             [-1, 12, 4, 4]               0\n",
            "          Dropout-25             [-1, 12, 4, 4]               0\n",
            "        AvgPool2d-26             [-1, 12, 1, 1]               0\n",
            "           Conv2d-27             [-1, 10, 1, 1]             120\n",
            "================================================================\n",
            "Total params: 6,376\n",
            "Trainable params: 6,376\n",
            "Non-trainable params: 0\n",
            "----------------------------------------------------------------\n",
            "Input size (MB): 0.00\n",
            "Forward/backward pass size (MB): 0.47\n",
            "Params size (MB): 0.02\n",
            "Estimated Total Size (MB): 0.50\n",
            "----------------------------------------------------------------\n"
          ],
          "name": "stdout"
        },
        {
          "output_type": "stream",
          "text": [
            "/usr/local/lib/python3.6/dist-packages/ipykernel_launcher.py:63: UserWarning: Implicit dimension choice for log_softmax has been deprecated. Change the call to include dim=X as an argument.\n"
          ],
          "name": "stderr"
        }
      ]
    },
    {
      "cell_type": "markdown",
      "metadata": {
        "id": "1__x_SbrL7z3",
        "colab_type": "text"
      },
      "source": [
        "# Training and Testing\n",
        "\n",
        "Looking at logs can be boring, so we'll introduce **tqdm** progressbar to get cooler logs. \n",
        "\n",
        "Let's write train and test functions"
      ]
    },
    {
      "cell_type": "code",
      "metadata": {
        "id": "fbkF2nN_LYIb",
        "colab_type": "code",
        "colab": {}
      },
      "source": [
        "\n",
        "from tqdm import tqdm\n",
        "\n",
        "\n",
        "\n",
        "\n",
        "def train(model, device, train_loader, optimizer, epoch,scheduler):\n",
        "  # train_losses = []\n",
        "  # train_acc = []\n",
        "\n",
        "  model.train()\n",
        "  pbar = tqdm(train_loader)\n",
        "  correct = 0\n",
        "  processed = 0\n",
        "  train_loss = 0\n",
        "  train_acc = 0\n",
        "  for batch_idx, (data, target) in enumerate(pbar):\n",
        "    # get samples\n",
        "    data, target = data.to(device), target.to(device)\n",
        "\n",
        "    # Init\n",
        "    optimizer.zero_grad()\n",
        "    # In PyTorch, we need to set the gradients to zero before starting to do backpropragation because PyTorch accumulates the gradients on subsequent backward passes. \n",
        "    # Because of this, when you start your training loop, ideally you should zero out the gradients so that you do the parameter update correctly.\n",
        "\n",
        "    # Predict\n",
        "    y_pred = model(data)\n",
        "\n",
        "    # Calculate loss\n",
        "    loss = F.nll_loss(y_pred, target)\n",
        "    # train_losses.append(loss)\n",
        "    train_loss += F.nll_loss(y_pred, target, reduction='sum').item()  # sum up batch loss\n",
        "    \n",
        "    # Backpropagation\n",
        "    loss.backward()\n",
        "    optimizer.step()\n",
        "\n",
        "    # Update pbar-tqdm\n",
        "    \n",
        "    pred = y_pred.argmax(dim=1, keepdim=True)  # get the index of the max log-probability\n",
        "    correct += pred.eq(target.view_as(pred)).sum().item()\n",
        "    processed += len(data)\n",
        "\n",
        "    pbar.set_description(desc= f'Loss={loss.item()} Batch_id={batch_idx} Accuracy={100*correct/processed:0.2f}')\n",
        "    \n",
        "    # train_acc.append(100*correct/processed)\n",
        "    scheduler.step()\n",
        "  train_acc = 100*correct/processed\n",
        "  train_loss /= len(train_loader.dataset)\n",
        "  return train_loss, train_acc\n",
        "    \n",
        "def test(model, device, test_loader):\n",
        "  # test_losses = []\n",
        "\n",
        "  # test_acc = []\n",
        "\n",
        "  model.eval()\n",
        "  test_loss = 0\n",
        "  test_acc = 0\n",
        "  correct = 0\n",
        "  with torch.no_grad():\n",
        "      for data, target in test_loader:\n",
        "          data, target = data.to(device), target.to(device)\n",
        "          output = model(data)\n",
        "          test_loss += F.nll_loss(output, target, reduction='sum').item()  # sum up batch loss\n",
        "          pred = output.argmax(dim=1, keepdim=True)  # get the index of the max log-probability\n",
        "          correct += pred.eq(target.view_as(pred)).sum().item()\n",
        "\n",
        "\n",
        "\n",
        "\n",
        "  test_loss /= len(test_loader.dataset)\n",
        "  # test_losses.append(test_loss)\n",
        "  test_acc = 100. * correct / len(test_loader.dataset)\n",
        "\n",
        "  print('\\nTest set: Average loss: {:.4f}, Accuracy: {}/{} ({:.2f}%)\\n'.format(\n",
        "      test_loss, correct, len(test_loader.dataset),\n",
        "      test_acc))\n",
        "  # test_acc.append(acc)\n",
        "\n",
        "  return test_loss, test_acc\n"
      ],
      "execution_count": 0,
      "outputs": []
    },
    {
      "cell_type": "code",
      "metadata": {
        "id": "wgp9oK5F-34c",
        "colab_type": "code",
        "colab": {}
      },
      "source": [
        "def run_model(model, device, train_loader, optimizer, scheduler, test_loader, EPOCHS, logger):\n",
        "  train_loss_list = []\n",
        "  train_acc_list = []\n",
        "  test_losses_list = []\n",
        "  test_acc_list = []\n",
        "  for epoch in range(1,EPOCHS+1):\n",
        "      print(f\"EPOCH:{epoch} | LR: {scheduler.get_lr()}\")\n",
        "      train_loss, train_acc= train(model, device, train_loader, optimizer, epoch, scheduler)\n",
        "      test_loss, test_acc= test(model, device, test_loader)\n",
        "      train_loss_list.append(train_loss)\n",
        "      train_acc_list.append(train_acc)\n",
        "      test_losses_list.append(test_loss)\n",
        "      test_acc_list.append(test_acc)\n",
        "      logger.write([\"base_model\",epoch, optimizer.param_groups[0]['lr'], train_loss, test_loss, train_acc, test_acc])\n",
        "  return train_loss_list, train_acc_list, test_losses_list, test_acc_list"
      ],
      "execution_count": 0,
      "outputs": []
    },
    {
      "cell_type": "markdown",
      "metadata": {
        "id": "drokW8wWODKq",
        "colab_type": "text"
      },
      "source": [
        "# Let's Train and test our model"
      ]
    },
    {
      "cell_type": "code",
      "metadata": {
        "id": "xMCFxeAKOB53",
        "colab_type": "code",
        "outputId": "afeac1fa-03f3-40c2-c315-8cc76c080e17",
        "colab": {
          "base_uri": "https://localhost:8080/",
          "height": 1000
        }
      },
      "source": [
        "model =  Net().to(device)\n",
        "optimizer = optim.SGD(model.parameters(), lr=0.01, momentum=0.9)\n",
        "EPOCHS = 40\n",
        "scheduler = torch.optim.lr_scheduler.OneCycleLR(optimizer, max_lr=0.1, steps_per_epoch=len(train_loader), epochs=EPOCHS)\n",
        "\n",
        "timer = mlc.time.Timer()\n",
        "logger = mlc.LinewiseCSVWriter('train_log_base_model.csv', header=[\"iteration_type\", 'epoch', 'lr', 'train_loss', 'val_loss', 'train_acc', 'val_acc'])\n",
        "\n",
        "train_losses, train_acc, test_losses, test_acc = run_model(model, device, train_loader, optimizer, scheduler, test_loader, EPOCHS, logger)"
      ],
      "execution_count": 13,
      "outputs": [
        {
          "output_type": "stream",
          "text": [
            "\r  0%|          | 0/938 [00:00<?, ?it/s]"
          ],
          "name": "stderr"
        },
        {
          "output_type": "stream",
          "text": [
            "EPOCH:1 | LR: [0.0040000000000000036]\n"
          ],
          "name": "stdout"
        },
        {
          "output_type": "stream",
          "text": [
            "/usr/local/lib/python3.6/dist-packages/ipykernel_launcher.py:63: UserWarning: Implicit dimension choice for log_softmax has been deprecated. Change the call to include dim=X as an argument.\n",
            "Loss=0.2740268111228943 Batch_id=937 Accuracy=83.51: 100%|██████████| 938/938 [00:23<00:00, 40.61it/s]\n",
            "  0%|          | 0/938 [00:00<?, ?it/s]"
          ],
          "name": "stderr"
        },
        {
          "output_type": "stream",
          "text": [
            "\n",
            "Test set: Average loss: 0.1262, Accuracy: 9634/10000 (96.34%)\n",
            "\n",
            "EPOCH:2 | LR: [0.005635849325882514]\n"
          ],
          "name": "stdout"
        },
        {
          "output_type": "stream",
          "text": [
            "Loss=0.20504499971866608 Batch_id=937 Accuracy=96.87: 100%|██████████| 938/938 [00:22<00:00, 41.56it/s]\n",
            "  0%|          | 0/938 [00:00<?, ?it/s]"
          ],
          "name": "stderr"
        },
        {
          "output_type": "stream",
          "text": [
            "\n",
            "Test set: Average loss: 0.0503, Accuracy: 9854/10000 (98.54%)\n",
            "\n",
            "EPOCH:3 | LR: [0.010431897177822128]\n"
          ],
          "name": "stdout"
        },
        {
          "output_type": "stream",
          "text": [
            "Loss=0.016836166381835938 Batch_id=937 Accuracy=97.42: 100%|██████████| 938/938 [00:22<00:00, 41.16it/s]\n",
            "  0%|          | 0/938 [00:00<?, ?it/s]"
          ],
          "name": "stderr"
        },
        {
          "output_type": "stream",
          "text": [
            "\n",
            "Test set: Average loss: 0.0503, Accuracy: 9833/10000 (98.33%)\n",
            "\n",
            "EPOCH:4 | LR: [0.018061243070589844]\n"
          ],
          "name": "stdout"
        },
        {
          "output_type": "stream",
          "text": [
            "Loss=0.06541155278682709 Batch_id=937 Accuracy=97.50: 100%|██████████| 938/938 [00:23<00:00, 40.66it/s]\n",
            "  0%|          | 0/938 [00:00<?, ?it/s]"
          ],
          "name": "stderr"
        },
        {
          "output_type": "stream",
          "text": [
            "\n",
            "Test set: Average loss: 0.0435, Accuracy: 9854/10000 (98.54%)\n",
            "\n",
            "EPOCH:5 | LR: [0.028003867823535325]\n"
          ],
          "name": "stdout"
        },
        {
          "output_type": "stream",
          "text": [
            "Loss=0.07931198179721832 Batch_id=937 Accuracy=97.78: 100%|██████████| 938/938 [00:23<00:00, 40.68it/s]\n",
            "  0%|          | 0/938 [00:00<?, ?it/s]"
          ],
          "name": "stderr"
        },
        {
          "output_type": "stream",
          "text": [
            "\n",
            "Test set: Average loss: 0.0341, Accuracy: 9892/10000 (98.92%)\n",
            "\n",
            "EPOCH:6 | LR: [0.039582078270008196]\n"
          ],
          "name": "stdout"
        },
        {
          "output_type": "stream",
          "text": [
            "Loss=0.09652256965637207 Batch_id=937 Accuracy=97.94: 100%|██████████| 938/938 [00:23<00:00, 40.66it/s]\n",
            "  0%|          | 0/938 [00:00<?, ?it/s]"
          ],
          "name": "stderr"
        },
        {
          "output_type": "stream",
          "text": [
            "\n",
            "Test set: Average loss: 0.0318, Accuracy: 9899/10000 (98.99%)\n",
            "\n",
            "EPOCH:7 | LR: [0.052006699086933936]\n"
          ],
          "name": "stdout"
        },
        {
          "output_type": "stream",
          "text": [
            "Loss=0.030245214700698853 Batch_id=937 Accuracy=98.09: 100%|██████████| 938/938 [00:22<00:00, 40.80it/s]\n",
            "  0%|          | 0/938 [00:00<?, ?it/s]"
          ],
          "name": "stderr"
        },
        {
          "output_type": "stream",
          "text": [
            "\n",
            "Test set: Average loss: 0.0381, Accuracy: 9885/10000 (98.85%)\n",
            "\n",
            "EPOCH:8 | LR: [0.06443086329149111]\n"
          ],
          "name": "stdout"
        },
        {
          "output_type": "stream",
          "text": [
            "Loss=0.018383145332336426 Batch_id=937 Accuracy=98.19: 100%|██████████| 938/938 [00:22<00:00, 50.98it/s]\n",
            "  0%|          | 0/938 [00:00<?, ?it/s]"
          ],
          "name": "stderr"
        },
        {
          "output_type": "stream",
          "text": [
            "\n",
            "Test set: Average loss: 0.0300, Accuracy: 9914/10000 (99.14%)\n",
            "\n",
            "EPOCH:9 | LR: [0.07600773502373485]\n"
          ],
          "name": "stdout"
        },
        {
          "output_type": "stream",
          "text": [
            "Loss=0.11379065364599228 Batch_id=937 Accuracy=98.32: 100%|██████████| 938/938 [00:22<00:00, 48.72it/s]\n",
            "  0%|          | 0/938 [00:00<?, ?it/s]"
          ],
          "name": "stderr"
        },
        {
          "output_type": "stream",
          "text": [
            "\n",
            "Test set: Average loss: 0.0274, Accuracy: 9915/10000 (99.15%)\n",
            "\n",
            "EPOCH:10 | LR: [0.08594823020787264]\n"
          ],
          "name": "stdout"
        },
        {
          "output_type": "stream",
          "text": [
            "Loss=0.004249051213264465 Batch_id=937 Accuracy=98.39: 100%|██████████| 938/938 [00:22<00:00, 48.52it/s]\n",
            "  0%|          | 0/938 [00:00<?, ?it/s]"
          ],
          "name": "stderr"
        },
        {
          "output_type": "stream",
          "text": [
            "\n",
            "Test set: Average loss: 0.0281, Accuracy: 9913/10000 (99.13%)\n",
            "\n",
            "EPOCH:11 | LR: [0.09357480082949156]\n"
          ],
          "name": "stdout"
        },
        {
          "output_type": "stream",
          "text": [
            "Loss=0.017527639865875244 Batch_id=937 Accuracy=98.52: 100%|██████████| 938/938 [00:22<00:00, 41.14it/s]\n",
            "  0%|          | 0/938 [00:00<?, ?it/s]"
          ],
          "name": "stderr"
        },
        {
          "output_type": "stream",
          "text": [
            "\n",
            "Test set: Average loss: 0.0251, Accuracy: 9918/10000 (99.18%)\n",
            "\n",
            "EPOCH:12 | LR: [0.09836761687150115]\n"
          ],
          "name": "stdout"
        },
        {
          "output_type": "stream",
          "text": [
            "Loss=0.012591227889060974 Batch_id=937 Accuracy=98.53: 100%|██████████| 938/938 [00:23<00:00, 40.78it/s]\n",
            "  0%|          | 0/938 [00:00<?, ?it/s]"
          ],
          "name": "stderr"
        },
        {
          "output_type": "stream",
          "text": [
            "\n",
            "Test set: Average loss: 0.0281, Accuracy: 9910/10000 (99.10%)\n",
            "\n",
            "EPOCH:13 | LR: [0.0999999996423022]\n"
          ],
          "name": "stdout"
        },
        {
          "output_type": "stream",
          "text": [
            "Loss=0.2519015967845917 Batch_id=937 Accuracy=98.57: 100%|██████████| 938/938 [00:22<00:00, 40.87it/s]\n",
            "  0%|          | 0/938 [00:00<?, ?it/s]"
          ],
          "name": "stderr"
        },
        {
          "output_type": "stream",
          "text": [
            "\n",
            "Test set: Average loss: 0.0237, Accuracy: 9923/10000 (99.23%)\n",
            "\n",
            "EPOCH:14 | LR: [0.09968494176273295]\n"
          ],
          "name": "stdout"
        },
        {
          "output_type": "stream",
          "text": [
            "Loss=0.00715424120426178 Batch_id=937 Accuracy=98.61: 100%|██████████| 938/938 [00:22<00:00, 45.63it/s]\n",
            "  0%|          | 0/938 [00:00<?, ?it/s]"
          ],
          "name": "stderr"
        },
        {
          "output_type": "stream",
          "text": [
            "\n",
            "Test set: Average loss: 0.0212, Accuracy: 9927/10000 (99.27%)\n",
            "\n",
            "EPOCH:15 | LR: [0.09874506942773865]\n"
          ],
          "name": "stdout"
        },
        {
          "output_type": "stream",
          "text": [
            "Loss=0.09072524309158325 Batch_id=937 Accuracy=98.65: 100%|██████████| 938/938 [00:22<00:00, 40.89it/s]\n",
            "  0%|          | 0/938 [00:00<?, ?it/s]"
          ],
          "name": "stderr"
        },
        {
          "output_type": "stream",
          "text": [
            "\n",
            "Test set: Average loss: 0.0247, Accuracy: 9931/10000 (99.31%)\n",
            "\n",
            "EPOCH:16 | LR: [0.09719220207725855]\n"
          ],
          "name": "stdout"
        },
        {
          "output_type": "stream",
          "text": [
            "Loss=0.05641084909439087 Batch_id=937 Accuracy=98.68: 100%|██████████| 938/938 [00:22<00:00, 41.20it/s]\n",
            "  0%|          | 0/938 [00:00<?, ?it/s]"
          ],
          "name": "stderr"
        },
        {
          "output_type": "stream",
          "text": [
            "\n",
            "Test set: Average loss: 0.0199, Accuracy: 9935/10000 (99.35%)\n",
            "\n",
            "EPOCH:17 | LR: [0.09504586791921951]\n"
          ],
          "name": "stdout"
        },
        {
          "output_type": "stream",
          "text": [
            "Loss=0.0031038671731948853 Batch_id=937 Accuracy=98.69: 100%|██████████| 938/938 [00:23<00:00, 40.59it/s]\n",
            "  0%|          | 0/938 [00:00<?, ?it/s]"
          ],
          "name": "stderr"
        },
        {
          "output_type": "stream",
          "text": [
            "\n",
            "Test set: Average loss: 0.0286, Accuracy: 9904/10000 (99.04%)\n",
            "\n",
            "EPOCH:18 | LR: [0.09233305835099098]\n"
          ],
          "name": "stdout"
        },
        {
          "output_type": "stream",
          "text": [
            "Loss=0.028632938861846924 Batch_id=937 Accuracy=98.75: 100%|██████████| 938/938 [00:22<00:00, 41.13it/s]\n",
            "  0%|          | 0/938 [00:00<?, ?it/s]"
          ],
          "name": "stderr"
        },
        {
          "output_type": "stream",
          "text": [
            "\n",
            "Test set: Average loss: 0.0258, Accuracy: 9919/10000 (99.19%)\n",
            "\n",
            "EPOCH:19 | LR: [0.0890878885269022]\n"
          ],
          "name": "stdout"
        },
        {
          "output_type": "stream",
          "text": [
            "Loss=0.009815365076065063 Batch_id=937 Accuracy=98.75: 100%|██████████| 938/938 [00:23<00:00, 40.78it/s]\n",
            "  0%|          | 0/938 [00:00<?, ?it/s]"
          ],
          "name": "stderr"
        },
        {
          "output_type": "stream",
          "text": [
            "\n",
            "Test set: Average loss: 0.0235, Accuracy: 9918/10000 (99.18%)\n",
            "\n",
            "EPOCH:20 | LR: [0.08535116834038248]\n"
          ],
          "name": "stdout"
        },
        {
          "output_type": "stream",
          "text": [
            "Loss=0.032349273562431335 Batch_id=937 Accuracy=98.82: 100%|██████████| 938/938 [00:22<00:00, 47.73it/s]\n",
            "  0%|          | 0/938 [00:00<?, ?it/s]"
          ],
          "name": "stderr"
        },
        {
          "output_type": "stream",
          "text": [
            "\n",
            "Test set: Average loss: 0.0217, Accuracy: 9932/10000 (99.32%)\n",
            "\n",
            "EPOCH:21 | LR: [0.08116988921587286]\n"
          ],
          "name": "stdout"
        },
        {
          "output_type": "stream",
          "text": [
            "Loss=0.07763814926147461 Batch_id=937 Accuracy=98.82: 100%|██████████| 938/938 [00:22<00:00, 40.84it/s]\n",
            "  0%|          | 0/938 [00:00<?, ?it/s]"
          ],
          "name": "stderr"
        },
        {
          "output_type": "stream",
          "text": [
            "\n",
            "Test set: Average loss: 0.0226, Accuracy: 9927/10000 (99.27%)\n",
            "\n",
            "EPOCH:22 | LR: [0.0765966331643987]\n"
          ],
          "name": "stdout"
        },
        {
          "output_type": "stream",
          "text": [
            "Loss=0.0055937618017196655 Batch_id=937 Accuracy=98.89: 100%|██████████| 938/938 [00:23<00:00, 40.61it/s]\n",
            "  0%|          | 0/938 [00:00<?, ?it/s]"
          ],
          "name": "stderr"
        },
        {
          "output_type": "stream",
          "text": [
            "\n",
            "Test set: Average loss: 0.0263, Accuracy: 9922/10000 (99.22%)\n",
            "\n",
            "EPOCH:23 | LR: [0.07168891153427225]\n"
          ],
          "name": "stdout"
        },
        {
          "output_type": "stream",
          "text": [
            "Loss=0.07991407066583633 Batch_id=937 Accuracy=98.81: 100%|██████████| 938/938 [00:22<00:00, 40.81it/s]\n",
            "  0%|          | 0/938 [00:00<?, ?it/s]"
          ],
          "name": "stderr"
        },
        {
          "output_type": "stream",
          "text": [
            "\n",
            "Test set: Average loss: 0.0223, Accuracy: 9929/10000 (99.29%)\n",
            "\n",
            "EPOCH:24 | LR: [0.06650844177251879]\n"
          ],
          "name": "stdout"
        },
        {
          "output_type": "stream",
          "text": [
            "Loss=0.007526099681854248 Batch_id=937 Accuracy=98.89: 100%|██████████| 938/938 [00:23<00:00, 40.40it/s]\n",
            "  0%|          | 0/938 [00:00<?, ?it/s]"
          ],
          "name": "stderr"
        },
        {
          "output_type": "stream",
          "text": [
            "\n",
            "Test set: Average loss: 0.0203, Accuracy: 9932/10000 (99.32%)\n",
            "\n",
            "EPOCH:25 | LR: [0.061120371292170905]\n"
          ],
          "name": "stdout"
        },
        {
          "output_type": "stream",
          "text": [
            "Loss=0.0017424523830413818 Batch_id=937 Accuracy=98.93: 100%|██████████| 938/938 [00:23<00:00, 40.40it/s]\n",
            "  0%|          | 0/938 [00:00<?, ?it/s]"
          ],
          "name": "stderr"
        },
        {
          "output_type": "stream",
          "text": [
            "\n",
            "Test set: Average loss: 0.0181, Accuracy: 9944/10000 (99.44%)\n",
            "\n",
            "EPOCH:26 | LR: [0.05559245820575031]\n"
          ],
          "name": "stdout"
        },
        {
          "output_type": "stream",
          "text": [
            "Loss=0.0041583627462387085 Batch_id=937 Accuracy=98.95: 100%|██████████| 938/938 [00:23<00:00, 40.77it/s]\n",
            "  0%|          | 0/938 [00:00<?, ?it/s]"
          ],
          "name": "stderr"
        },
        {
          "output_type": "stream",
          "text": [
            "\n",
            "Test set: Average loss: 0.0223, Accuracy: 9932/10000 (99.32%)\n",
            "\n",
            "EPOCH:27 | LR: [0.04999421922768861]\n"
          ],
          "name": "stdout"
        },
        {
          "output_type": "stream",
          "text": [
            "Loss=0.02055002748966217 Batch_id=937 Accuracy=98.93: 100%|██████████| 938/938 [00:22<00:00, 41.07it/s]\n",
            "  0%|          | 0/938 [00:00<?, ?it/s]"
          ],
          "name": "stderr"
        },
        {
          "output_type": "stream",
          "text": [
            "\n",
            "Test set: Average loss: 0.0211, Accuracy: 9941/10000 (99.41%)\n",
            "\n",
            "EPOCH:28 | LR: [0.044396055461308856]\n"
          ],
          "name": "stdout"
        },
        {
          "output_type": "stream",
          "text": [
            "Loss=0.01650775969028473 Batch_id=937 Accuracy=99.01: 100%|██████████| 938/938 [00:22<00:00, 41.19it/s]\n",
            "  0%|          | 0/938 [00:00<?, ?it/s]"
          ],
          "name": "stderr"
        },
        {
          "output_type": "stream",
          "text": [
            "\n",
            "Test set: Average loss: 0.0217, Accuracy: 9934/10000 (99.34%)\n",
            "\n",
            "EPOCH:29 | LR: [0.03886836706410354]\n"
          ],
          "name": "stdout"
        },
        {
          "output_type": "stream",
          "text": [
            "Loss=0.0010309219360351562 Batch_id=937 Accuracy=99.00: 100%|██████████| 938/938 [00:23<00:00, 40.63it/s]\n",
            "  0%|          | 0/938 [00:00<?, ?it/s]"
          ],
          "name": "stderr"
        },
        {
          "output_type": "stream",
          "text": [
            "\n",
            "Test set: Average loss: 0.0220, Accuracy: 9931/10000 (99.31%)\n",
            "\n",
            "EPOCH:30 | LR: [0.03348066792490705]\n"
          ],
          "name": "stdout"
        },
        {
          "output_type": "stream",
          "text": [
            "Loss=0.0608416348695755 Batch_id=937 Accuracy=99.02: 100%|██████████| 938/938 [00:22<00:00, 40.88it/s]\n",
            "  0%|          | 0/938 [00:00<?, ?it/s]"
          ],
          "name": "stderr"
        },
        {
          "output_type": "stream",
          "text": [
            "\n",
            "Test set: Average loss: 0.0183, Accuracy: 9940/10000 (99.40%)\n",
            "\n",
            "EPOCH:31 | LR: [0.0283007114864106]\n"
          ],
          "name": "stdout"
        },
        {
          "output_type": "stream",
          "text": [
            "Loss=0.004074767231941223 Batch_id=937 Accuracy=99.14: 100%|██████████| 938/938 [00:22<00:00, 40.85it/s]\n",
            "  0%|          | 0/938 [00:00<?, ?it/s]"
          ],
          "name": "stderr"
        },
        {
          "output_type": "stream",
          "text": [
            "\n",
            "Test set: Average loss: 0.0191, Accuracy: 9938/10000 (99.38%)\n",
            "\n",
            "EPOCH:32 | LR: [0.023393638706309047]\n"
          ],
          "name": "stdout"
        },
        {
          "output_type": "stream",
          "text": [
            "Loss=0.029135242104530334 Batch_id=937 Accuracy=99.12: 100%|██████████| 938/938 [00:23<00:00, 40.75it/s]\n",
            "  0%|          | 0/938 [00:00<?, ?it/s]"
          ],
          "name": "stderr"
        },
        {
          "output_type": "stream",
          "text": [
            "\n",
            "Test set: Average loss: 0.0201, Accuracy: 9937/10000 (99.37%)\n",
            "\n",
            "EPOCH:33 | LR: [0.018821158871962108]\n"
          ],
          "name": "stdout"
        },
        {
          "output_type": "stream",
          "text": [
            "Loss=0.003718271851539612 Batch_id=937 Accuracy=99.13: 100%|██████████| 938/938 [00:22<00:00, 40.85it/s]\n",
            "  0%|          | 0/938 [00:00<?, ?it/s]"
          ],
          "name": "stderr"
        },
        {
          "output_type": "stream",
          "text": [
            "\n",
            "Test set: Average loss: 0.0203, Accuracy: 9934/10000 (99.34%)\n",
            "\n",
            "EPOCH:34 | LR: [0.014640773570301302]\n"
          ],
          "name": "stdout"
        },
        {
          "output_type": "stream",
          "text": [
            "Loss=0.00886237621307373 Batch_id=937 Accuracy=99.16: 100%|██████████| 938/938 [00:22<00:00, 40.85it/s]\n",
            "  0%|          | 0/938 [00:00<?, ?it/s]"
          ],
          "name": "stderr"
        },
        {
          "output_type": "stream",
          "text": [
            "\n",
            "Test set: Average loss: 0.0179, Accuracy: 9943/10000 (99.43%)\n",
            "\n",
            "EPOCH:35 | LR: [0.010905053572011027]\n"
          ],
          "name": "stdout"
        },
        {
          "output_type": "stream",
          "text": [
            "Loss=0.008782148361206055 Batch_id=937 Accuracy=99.12: 100%|██████████| 938/938 [00:23<00:00, 40.76it/s]\n",
            "  0%|          | 0/938 [00:00<?, ?it/s]"
          ],
          "name": "stderr"
        },
        {
          "output_type": "stream",
          "text": [
            "\n",
            "Test set: Average loss: 0.0198, Accuracy: 9939/10000 (99.39%)\n",
            "\n",
            "EPOCH:36 | LR: [0.007660977723585038]\n"
          ],
          "name": "stdout"
        },
        {
          "output_type": "stream",
          "text": [
            "Loss=0.006446048617362976 Batch_id=937 Accuracy=99.14: 100%|██████████| 938/938 [00:23<00:00, 40.30it/s]\n",
            "  0%|          | 0/938 [00:00<?, ?it/s]"
          ],
          "name": "stderr"
        },
        {
          "output_type": "stream",
          "text": [
            "\n",
            "Test set: Average loss: 0.0184, Accuracy: 9944/10000 (99.44%)\n",
            "\n",
            "EPOCH:37 | LR: [0.004949342161073944]\n"
          ],
          "name": "stdout"
        },
        {
          "output_type": "stream",
          "text": [
            "Loss=0.018584072589874268 Batch_id=937 Accuracy=99.24: 100%|██████████| 938/938 [00:23<00:00, 40.76it/s]\n",
            "  0%|          | 0/938 [00:00<?, ?it/s]"
          ],
          "name": "stderr"
        },
        {
          "output_type": "stream",
          "text": [
            "\n",
            "Test set: Average loss: 0.0182, Accuracy: 9943/10000 (99.43%)\n",
            "\n",
            "EPOCH:38 | LR: [0.0028042472750039044]\n"
          ],
          "name": "stdout"
        },
        {
          "output_type": "stream",
          "text": [
            "Loss=0.11298640072345734 Batch_id=937 Accuracy=99.24: 100%|██████████| 938/938 [00:22<00:00, 41.18it/s]\n",
            "  0%|          | 0/938 [00:00<?, ?it/s]"
          ],
          "name": "stderr"
        },
        {
          "output_type": "stream",
          "text": [
            "\n",
            "Test set: Average loss: 0.0191, Accuracy: 9937/10000 (99.37%)\n",
            "\n",
            "EPOCH:39 | LR: [0.0012526688781803186]\n"
          ],
          "name": "stdout"
        },
        {
          "output_type": "stream",
          "text": [
            "Loss=0.03653360903263092 Batch_id=937 Accuracy=99.18: 100%|██████████| 938/938 [00:22<00:00, 47.20it/s]\n",
            "  0%|          | 0/938 [00:00<?, ?it/s]"
          ],
          "name": "stderr"
        },
        {
          "output_type": "stream",
          "text": [
            "\n",
            "Test set: Average loss: 0.0179, Accuracy: 9943/10000 (99.43%)\n",
            "\n",
            "EPOCH:40 | LR: [0.00031411896918998847]\n"
          ],
          "name": "stdout"
        },
        {
          "output_type": "stream",
          "text": [
            "Loss=0.09249767661094666 Batch_id=937 Accuracy=99.20: 100%|██████████| 938/938 [00:30<00:00, 30.50it/s]\n"
          ],
          "name": "stderr"
        },
        {
          "output_type": "stream",
          "text": [
            "\n",
            "Test set: Average loss: 0.0174, Accuracy: 9950/10000 (99.50%)\n",
            "\n"
          ],
          "name": "stdout"
        }
      ]
    },
    {
      "cell_type": "code",
      "metadata": {
        "id": "sCY0QOVm1Lam",
        "colab_type": "code",
        "colab": {}
      },
      "source": [
        "# train_losses_idx, train_acc, test_losses, test_acc\n"
      ],
      "execution_count": 0,
      "outputs": []
    },
    {
      "cell_type": "code",
      "metadata": {
        "id": "GtFOlPWR1LYj",
        "colab_type": "code",
        "colab": {}
      },
      "source": [
        ""
      ],
      "execution_count": 0,
      "outputs": []
    },
    {
      "cell_type": "code",
      "metadata": {
        "id": "7DhzSaSd1LWj",
        "colab_type": "code",
        "colab": {}
      },
      "source": [
        ""
      ],
      "execution_count": 0,
      "outputs": []
    },
    {
      "cell_type": "code",
      "metadata": {
        "id": "VGBL3OgY1LRH",
        "colab_type": "code",
        "colab": {}
      },
      "source": [
        ""
      ],
      "execution_count": 0,
      "outputs": []
    },
    {
      "cell_type": "code",
      "metadata": {
        "id": "2u1_OAyc4Hqp",
        "colab_type": "code",
        "colab": {
          "base_uri": "https://localhost:8080/",
          "height": 404
        },
        "outputId": "e182d667-a256-4a34-8709-9e7b6afec2d6"
      },
      "source": [
        "plt.figure(1, figsize=[10,6])\n",
        "plt.plot(train_losses)\n",
        "plt.plot(test_losses)\n",
        "plt.legend(['Train Loss', 'Test Loss'])\n",
        "plt.xlabel('Epoch')\n",
        "plt.ylabel('Loss')\n",
        "plt.title(\"Base Model Loss\")\n",
        "plt.savefig(\"Base Model loss.png\")"
      ],
      "execution_count": 14,
      "outputs": [
        {
          "output_type": "display_data",
          "data": {
            "image/png": "[encoded data removed]",
            "text/plain": [
              "<Figure size 720x432 with 1 Axes>"
            ]
          },
          "metadata": {
            "tags": []
          }
        }
      ]
    },
    {
      "cell_type": "code",
      "metadata": {
        "id": "eC3qcwAX4dYs",
        "colab_type": "code",
        "colab": {
          "base_uri": "https://localhost:8080/",
          "height": 404
        },
        "outputId": "b9bb02c5-521b-4eab-a9fd-3371c4e9b196"
      },
      "source": [
        "plt.figure(1, figsize=[10,6])\n",
        "plt.plot(train_acc)\n",
        "plt.plot(test_acc)\n",
        "plt.legend(['Train Acc', 'Test Acc'])\n",
        "plt.xlabel('Epoch')\n",
        "plt.ylabel('Acc')\n",
        "plt.title(\"Base Model Accuracy\")\n",
        "plt.savefig(\"Base Model Accuracy.png\")"
      ],
      "execution_count": 15,
      "outputs": [
        {
          "output_type": "display_data",
          "data": {
            "image/png": "[encoded data removed]",
            "text/plain": [
              "<Figure size 720x432 with 1 Axes>"
            ]
          },
          "metadata": {
            "tags": []
          }
        }
      ]
    },
    {
      "cell_type": "code",
      "metadata": {
        "id": "odozjbIvY12p",
        "colab_type": "code",
        "colab": {}
      },
      "source": [
        ""
      ],
      "execution_count": 0,
      "outputs": []
    }
  ]
}